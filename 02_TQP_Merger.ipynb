{
 "cells": [
  {
   "cell_type": "markdown",
   "id": "6648d579-45bc-44e6-b163-5c56547ce317",
   "metadata": {},
   "source": [
    "# **NTDB TQP Merger**"
   ]
  },
  {
   "cell_type": "markdown",
   "id": "8e45e2aa-70a8-4244-a275-93d1d78e0b15",
   "metadata": {},
   "source": [
    "### Importing required packages, defining file directories, and defining useful functions"
   ]
  },
  {
   "cell_type": "code",
   "execution_count": null,
   "id": "ebff2117-039d-49b7-a996-f38d4f73bb0d",
   "metadata": {},
   "outputs": [],
   "source": [
    "# Importing required packages\n",
    "import os\n",
    "import glob\n",
    "import re\n",
    "import pandas as pd\n",
    "pd.options.mode.chained_assignment = None  # default='warn'\n",
    "import numpy as np\n",
    "from collections import Counter\n",
    "from tableone import TableOne\n",
    "\n",
    "# Setting the file directory for this folder and for the raw data (stored in another HD because it's huge)\n",
    "cwd = os.getcwd()\n",
    "print(cwd)\n",
    "raw_wd = \"I:/BCM_projects/Bike-Injuries/NTDB\""
   ]
  },
  {
   "cell_type": "code",
   "execution_count": null,
   "id": "b83dcb82-9592-4c1a-a47a-e59bf5185432",
   "metadata": {},
   "outputs": [],
   "source": [
    "def stat_printer(df):\n",
    "    \"\"\"\n",
    "    Function to display some statistics of dataframes.  Input df MUST have an \"INC_KEY\" column.\n",
    "    Input: a dataframe with an INC_KEY column\n",
    "    Outputs: print/display statements with statistics about the dataframe\n",
    "    \"\"\"\n",
    "    x = len(df[\"INC_KEY\"].unique())\n",
    "    print(\"Shape: {0}\\nUnique INC KEYS: {1}\".format(str(df.shape), str(x)))\n",
    "    display(df.head())"
   ]
  },
  {
   "cell_type": "markdown",
   "id": "146e8711-5087-4d6c-8da7-d5c073d60fd9",
   "metadata": {},
   "source": [
    "## **Importing all the trauma dfs and merging**"
   ]
  },
  {
   "cell_type": "code",
   "execution_count": null,
   "id": "2adbacc8-1758-4652-bd3b-40738014c0fd",
   "metadata": {},
   "outputs": [],
   "source": [
    "trauma_file_list = glob.glob(cwd+\"/TQP_Files/main/*.csv\")\n",
    "trauma_df_list = []\n",
    "for file_dir in trauma_file_list:\n",
    "    df = pd.read_csv(file_dir)\n",
    "    df = df.rename(columns={\"LOSDAYS\": \"FINALDISCHARGEDAYS\", \"LOSMINS\": \"FINALDISCHARGEHRS\", \"ANGIOGRAPHYMINS\": \"ANGIOGRAPHYHRS\", \"ISS_05\": \"ISS\",\n",
    "                            \"CEREBRALMONITORDAYS\": \"TBICEREBRALMONITORDAYS\", \"CEREBRALMONITORMINS\": \"TBICEREBRALMONITORHRS\", \"HMRRHGCTRLSURGMINS\": \"HMRRHGCTRLSURGHRS\", \"VTEPROPHYLAXISMINS\": \"VTEPROPHYLAXISHRS\", \n",
    "                            \"EMSSCENEDAYS\": \"EMSDEPARTUREDAYS\", \"EMSSCENEMINS\": \"EMSDEPARTUREHRS\", \"ADDITIONALECODE1\": \"ADDITIONALECODEICD10\", \"EMSRESPONSEDAYS\": \"EMSARRIVALDAYS\", \"EMSRESPONSEMINS\": \"EMSARRIVALHRS\", \n",
    "                            \"EDDAYS\": \"EDDISCHARGEDAYS\", \"EDMINS\": \"EDDISCHARGEHRS\"})\n",
    "    trauma_df_list.append(df)\n",
    "    print(\"Done with {}\".format(file_dir))\n",
    "print(len(trauma_df_list))"
   ]
  },
  {
   "cell_type": "code",
   "execution_count": null,
   "id": "017a8da3-a18b-4523-8c63-9d95a08ba256",
   "metadata": {},
   "outputs": [],
   "source": [
    "# Unit conversions on each df (mostly 2017 & 2018 unit conversion from minutes to hours)\n",
    "df_2017 = trauma_df_list[0]\n",
    "df_2017_mod = df_2017.copy()\n",
    "df_2018 = trauma_df_list[1]\n",
    "df_2018_mod = df_2018.copy()\n",
    "df_2019 = trauma_df_list[2]\n",
    "df_2020 = trauma_df_list[3]\n",
    "df_2021 = trauma_df_list[4]\n",
    "\n",
    "# Unit conversions for 2017\n",
    "df_2017_mod[\"FINALDISCHARGEHRS\"] = df_2017_mod[\"FINALDISCHARGEHRS\"] / 60\n",
    "df_2017_mod[\"ANGIOGRAPHYHRS\"] = df_2017_mod[\"ANGIOGRAPHYHRS\"] / 60\n",
    "df_2017_mod[\"TBICEREBRALMONITORHRS\"] = df_2017_mod[\"TBICEREBRALMONITORHRS\"] / 60\n",
    "df_2017_mod[\"HMRRHGCTRLSURGHRS\"] = df_2017_mod[\"HMRRHGCTRLSURGHRS\"] / 60\n",
    "df_2017_mod[\"VTEPROPHYLAXISHRS\"] = df_2017_mod[\"VTEPROPHYLAXISHRS\"] / 60\n",
    "df_2017_mod[\"EMSDEPARTUREHRS\"] = df_2017_mod[\"EMSDEPARTUREHRS\"] / 60\n",
    "df_2017_mod[\"EMSARRIVALHRS\"] = df_2017_mod[\"EMSARRIVALHRS\"] / 60\n",
    "df_2017_mod[\"EDDISCHARGEHRS\"] = df_2017_mod[\"EDDISCHARGEHRS\"] / 60\n",
    "#df_2017_mod[[\"INC_KEY\", \"FINALDISCHARGEHRS\", \"ANGIOGRAPHYHRS\", \"TBICEREBRALMONITORHRS\", \"HMRRHGCTRLSURGHRS\", \"VTEPROPHYLAXISHRS\", \"EMSDEPARTUREHRS\", \"EMSARRIVALHRS\", \"EDDISCHARGEHRS\", \"Year\"]]\n",
    "\n",
    "# Unit conversions for 2018\n",
    "df_2018_mod[\"FINALDISCHARGEHRS\"] = df_2018_mod[\"FINALDISCHARGEHRS\"] / 60\n",
    "df_2018_mod[\"ANGIOGRAPHYHRS\"] = df_2018_mod[\"ANGIOGRAPHYHRS\"] / 60\n",
    "df_2018_mod[\"TBICEREBRALMONITORHRS\"] = df_2018_mod[\"TBICEREBRALMONITORHRS\"] / 60\n",
    "df_2018_mod[\"HMRRHGCTRLSURGHRS\"] = df_2018_mod[\"HMRRHGCTRLSURGHRS\"] / 60\n",
    "df_2018_mod[\"VTEPROPHYLAXISHRS\"] = df_2018_mod[\"VTEPROPHYLAXISHRS\"] / 60\n",
    "df_2018_mod[\"EMSDEPARTUREHRS\"] = df_2018_mod[\"EMSDEPARTUREHRS\"] / 60\n",
    "df_2018_mod[\"EMSARRIVALHRS\"] = df_2018_mod[\"EMSARRIVALHRS\"] / 60\n",
    "df_2018_mod[\"EDDISCHARGEHRS\"] = df_2018_mod[\"EDDISCHARGEHRS\"] / 60\n",
    "#df_2018_mod[[\"INC_KEY\", \"FINALDISCHARGEHRS\", \"ANGIOGRAPHYHRS\", \"TBICEREBRALMONITORHRS\", \"HMRRHGCTRLSURGHRS\", \"VTEPROPHYLAXISHRS\", \"EMSDEPARTUREHRS\", \"EMSARRIVALHRS\", \"EDDISCHARGEHRS\", \"Year\"]]"
   ]
  },
  {
   "cell_type": "code",
   "execution_count": null,
   "id": "489d3b13-0f5b-46a6-866d-97029f1ec064",
   "metadata": {},
   "outputs": [],
   "source": [
    "# Getting column names for each trauma year\n",
    "df1_cols = df_2017_mod.columns\n",
    "df2_cols = df_2018_mod.columns\n",
    "df3_cols = df_2019.columns\n",
    "df4_cols = df_2020.columns\n",
    "df5_cols = df_2021.columns\n",
    "trauma_mod_df_list = [df_2017_mod, df_2018_mod, df_2019, df_2020, df_2021]\n",
    "\n",
    "# Finding the common columns\n",
    "common_cols = np.intersect1d(df1_cols, df2_cols)\n",
    "common_cols = np.intersect1d(common_cols, df3_cols)\n",
    "common_cols = np.intersect1d(common_cols, df4_cols)\n",
    "common_cols = np.intersect1d(common_cols, df5_cols)\n",
    "\n",
    "# Concatenating\n",
    "trauma = pd.concat(trauma_mod_df_list, axis=0, ignore_index=True, join='inner', keys=common_cols)\n",
    "stat_printer(trauma)"
   ]
  },
  {
   "cell_type": "code",
   "execution_count": null,
   "id": "6a12ef5b-6ca6-443b-8e7f-af9324718795",
   "metadata": {},
   "outputs": [],
   "source": [
    "len(trauma[trauma[\"ALCOHOLSCREENRESULT\"]>0.02])"
   ]
  },
  {
   "cell_type": "code",
   "execution_count": null,
   "id": "d38432f1-d576-4ed6-9f18-bd37aeb4e496",
   "metadata": {},
   "outputs": [],
   "source": [
    "# Exporting trauma df to csv\n",
    "#trauma.to_csv(cwd+\"/TQP_Processed/trauma_merged.csv\", index=False)"
   ]
  },
  {
   "cell_type": "markdown",
   "id": "ab19f409-777e-40fd-9d3b-72c781463cd3",
   "metadata": {},
   "source": [
    "## **Importing all the AIS (injury severity) dfs and merging**"
   ]
  },
  {
   "cell_type": "code",
   "execution_count": null,
   "id": "d2feab1b-3e34-4db0-bcc6-4471622cc40b",
   "metadata": {},
   "outputs": [],
   "source": [
    "ais_file_list = glob.glob(cwd+\"/TQP_Files/ais/*.csv\")\n",
    "ais_df_list = []\n",
    "for file_dir in ais_file_list:\n",
    "    df = pd.read_csv(file_dir)\n",
    "    ais_df_list.append(df)\n",
    "    print(\"Done with {}\".format(file_dir))\n",
    "print(len(ais_df_list))"
   ]
  },
  {
   "cell_type": "code",
   "execution_count": null,
   "id": "302b8b7e-21db-4f6b-a91a-9fbd214f872d",
   "metadata": {},
   "outputs": [],
   "source": [
    "for df in ais_df_list:\n",
    "    print(df.columns)"
   ]
  },
  {
   "cell_type": "code",
   "execution_count": null,
   "id": "01a3b2ec-8826-470b-abf1-3a948db92d05",
   "metadata": {},
   "outputs": [],
   "source": [
    "# Getting column names for each AIS year \n",
    "df1_cols = ais_df_list[0].columns\n",
    "df2_cols = ais_df_list[1].columns\n",
    "df3_cols = ais_df_list[2].columns\n",
    "df4_cols = ais_df_list[3].columns\n",
    "df5_cols = ais_df_list[4].columns\n",
    "\n",
    "# Gathering common shared columns\n",
    "common_cols = np.intersect1d(df1_cols, df2_cols)\n",
    "common_cols = np.intersect1d(common_cols, df3_cols)\n",
    "common_cols = np.intersect1d(common_cols, df4_cols)\n",
    "common_cols = np.intersect1d(common_cols, df5_cols)\n",
    "\n",
    "# Concatenating\n",
    "ais = pd.concat(ais_df_list, axis=0, ignore_index=True, join='inner', keys=common_cols)\n",
    "stat_printer(ais)"
   ]
  },
  {
   "cell_type": "code",
   "execution_count": null,
   "id": "85f6efb4-6d20-4b5c-87f2-cef42e96567a",
   "metadata": {},
   "outputs": [],
   "source": [
    "# Exporting trauma df to csv\n",
    "#ais.to_csv(cwd+\"/TQP_Processed/ais_merged.csv\", index=False)"
   ]
  },
  {
   "cell_type": "markdown",
   "id": "cabe7ccc-b8fd-4c8b-9146-9c484e87dd60",
   "metadata": {},
   "source": [
    "## Merging Co-morbidities"
   ]
  },
  {
   "cell_type": "code",
   "execution_count": null,
   "id": "d377e864-3b9a-4284-935c-2aa6da17dae4",
   "metadata": {},
   "outputs": [],
   "source": [
    "# getting each df (mostly focussing on 2017 & 2018 because they included co-morbidities in the trauma dfs)\n",
    "df_2017 = trauma_df_list[0]\n",
    "df_2017_mod = df_2017.copy()\n",
    "df_2018 = trauma_df_list[1]\n",
    "df_2018_mod = df_2018.copy()\n",
    "df_2019 = trauma_df_list[2]\n",
    "df_2020 = trauma_df_list[3]\n",
    "df_2021 = trauma_df_list[4]\n",
    "\n",
    "# getting all comborbidities files\n",
    "comor_file_list = glob.glob(cwd+\"/TQP_Files/preexisting/*.csv\")\n",
    "comor_dict = {13: \"CC_ADLC\", 2: \"CC_ALCOHOLISM\", 32: \"CC_ANGINAPECTORIS\", 31: \"CC_ANTICOAGULANT\", 30: \"CC_ADHD\",\n",
    "             4: \"CC_BLEEDING\", 10: \"CC_CVA\", 23: \"CC_COPD\", 9: \"CC_RENAL\", 25: \"CC_CIRRHOSIS\", 6: \"CC_CONGENITAL\", \n",
    "             7: \"CC_CHF\", 8: \"CC_SMOKING\", 5: \"CC_CHEMO\", 26: \"CC_DEMENTIA\", 11: \"CC_DIABETES\", 12: \"CC_DISCANCER\",\n",
    "             15: \"CC_FUNCTIONAL\", 19: \"CC_HYPERTENSION\", 33: \"CC_MENTALPERSONALITY\", 34: \"CC_MI\", 35: \"CC_PAD\",\n",
    "             38: \"CC_PREGNANCY\", 37: \"CC_PREMATURITY\", 24: \"CC_STEROID\", 36: \"CC_SUBSTANCEABUSE\"}\n",
    "comor_df_list = []\n",
    "for file_dir in comor_file_list:\n",
    "    df = pd.read_csv(file_dir)\n",
    "    df[\"PREEXISTINGCONDITION\"] = df[\"PREEXISTINGCONDITION\"].replace(comor_dict)\n",
    "    df[\"PREEXISTINGCONDITIONANSWER\"] = df[\"PREEXISTINGCONDITIONANSWER\"].replace({2:0, 1:1})\n",
    "    df = df.pivot(index=[\"INC_KEY\", \"Year\"], columns=[\"PREEXISTINGCONDITION\"], values=\"PREEXISTINGCONDITIONANSWER\").reset_index()\n",
    "    comor_df_list.append(df)\n",
    "    print(\"Done with {}\".format(file_dir))\n",
    "print(len(comor_df_list))"
   ]
  },
  {
   "cell_type": "code",
   "execution_count": null,
   "id": "611f289d-4ab1-43fa-aeb6-53a322d29b1a",
   "metadata": {},
   "outputs": [],
   "source": [
    "col_names = df_2017_mod.columns\n",
    "col_names[df_2017_mod.columns.str.startswith(\"CC_\")]"
   ]
  },
  {
   "cell_type": "code",
   "execution_count": null,
   "id": "99077995-18c5-41b1-8abc-3d162af565ef",
   "metadata": {},
   "outputs": [],
   "source": [
    "# Comorbidity columns to merge\n",
    "cols = [\"INC_KEY\", \"Year\", 'CC_ADHD', 'CC_ADLC', 'CC_ALCOHOLISM', 'CC_ANGINAPECTORIS',\n",
    "       'CC_ANTICOAGULANT', 'CC_BLEEDING', 'CC_CHEMO', 'CC_CIRRHOSIS',\n",
    "       'CC_CONGENITAL', 'CC_COPD', 'CC_CVA', 'CC_DEMENTIA', 'CC_DIABETES',\n",
    "       'CC_DISCANCER', 'CC_FUNCTIONAL', 'CC_CHF', 'CC_HYPERTENSION', 'CC_MI',\n",
    "       'CC_OTHER', 'CC_PAD', 'CC_PREMATURITY', 'CC_MENTALPERSONALITY',\n",
    "       'CC_RENAL', 'CC_SMOKING', 'CC_STEROID', 'CC_SUBSTANCEABUSE', 'CC_UK', 'CC_NA']\n",
    "\n",
    "# 2017\n",
    "comor_2017 = df_2017_mod[cols]\n",
    "\n",
    "# 2018\n",
    "comor_2018 = df_2018_mod[cols]\n",
    "\n",
    "# 2019-2021\n",
    "comor_2019 = comor_df_list[0]\n",
    "comor_2020 = comor_df_list[1]\n",
    "comor_2021 = comor_df_list[2]\n",
    "\n",
    "# Concatenating\n",
    "comor_list = [comor_2017, comor_2018, comor_2019, comor_2020, comor_2021]\n",
    "comor = pd.concat(comor_list, axis=0, ignore_index=True, join='outer')\n",
    "comor"
   ]
  },
  {
   "cell_type": "code",
   "execution_count": null,
   "id": "36288669-a753-4199-b55a-861c7fa728c2",
   "metadata": {
    "tags": []
   },
   "outputs": [],
   "source": [
    "# Exporting to csv\n",
    "#comor.to_csv(cwd+\"/TQP_Processed/comorbidities_merged.csv\", index=False)"
   ]
  },
  {
   "cell_type": "markdown",
   "id": "58cab9f0-3e4f-4375-bf4e-119cfb03639a",
   "metadata": {},
   "source": [
    "## Merging Adverse Events"
   ]
  },
  {
   "cell_type": "code",
   "execution_count": null,
   "id": "a2ef895a-0f37-4b8a-b9ce-f3d9427dc164",
   "metadata": {},
   "outputs": [],
   "source": [
    "# getting each df (mostly focussing on 2017 & 2018 because they included adverse events in the trauma dfs)\n",
    "df_2017 = trauma_df_list[0]\n",
    "df_2017_mod = df_2017.copy()\n",
    "df_2018 = trauma_df_list[1]\n",
    "df_2018_mod = df_2018.copy()\n",
    "df_2019 = trauma_df_list[2]\n",
    "df_2020 = trauma_df_list[3]\n",
    "df_2021 = trauma_df_list[4]\n",
    "\n",
    "# getting all comborbidities files\n",
    "ae_file_list = glob.glob(cwd+\"/TQP_Files/events/*.csv\")\n",
    "ae_dict = {4: \"HC_KIDNEY\", 5: \"HC_RESPIRATORY\", 36: \"HC_ALCOHOLWITHDRAWAL\", 8: \"HC_CARDARREST\", 33: \"HC_CAUTI\",\n",
    "             34: \"HC_CLABSI\", 12: \"HC_DEEPSSI\", 14: \"HC_DVTHROMBOSIS\", 15: \"HC_EXTREMITYCS\", 18: \"HC_MI\", 19: \"HC_ORGANSPACESSI\", \n",
    "             29: \"HC_OSTEOMYELITIS\", 21: \"HC_EMBOLISM\", 37: \"HC_PRESSUREULCER\", 32: \"HC_SEPSIS\", 22: \"HC_STROKECVA\", 38: \"HC_SUPERFICIALINCISIONSSI\",\n",
    "             31: \"HC_UNPLANNEDICU\", 25: \"HC_INTUBATION\", 40: \"HC_RETURNOR\", 35: \"HC_VAPNEUMONIA\", 39: \"HC_DELIRIUM\"}\n",
    "ae_df_list = []\n",
    "for file_dir in ae_file_list:\n",
    "    df = pd.read_csv(file_dir)\n",
    "    df[\"HOSPITALEVENT\"] = df[\"HOSPITALEVENT\"].replace(ae_dict)\n",
    "    df[\"HOSPITALEVENTANSWER\"] = df[\"HOSPITALEVENTANSWER\"].replace({2:0, 1:1})\n",
    "    df = df.pivot(index=[\"INC_KEY\", \"Year\"], columns=[\"HOSPITALEVENT\"], values=\"HOSPITALEVENTANSWER\").reset_index()\n",
    "    ae_df_list.append(df)\n",
    "    print(\"Done with {}\".format(file_dir))\n",
    "print(len(ae_df_list))"
   ]
  },
  {
   "cell_type": "code",
   "execution_count": null,
   "id": "14d69bff-3d45-4a82-badb-25f5d7f5fecf",
   "metadata": {},
   "outputs": [],
   "source": [
    "col_names = df_2017_mod.columns\n",
    "col_names[df_2017_mod.columns.str.startswith(\"HC_\")]"
   ]
  },
  {
   "cell_type": "code",
   "execution_count": null,
   "id": "bd5b308c-8b8b-41e3-bdc9-6c8e13c5002e",
   "metadata": {},
   "outputs": [],
   "source": [
    "ae_df_list[1].columns"
   ]
  },
  {
   "cell_type": "code",
   "execution_count": null,
   "id": "f1698607-ac33-4ead-b38a-6db57064380a",
   "metadata": {},
   "outputs": [],
   "source": [
    "# Comorbidity columns to merge\n",
    "cols = [\"INC_KEY\", \"Year\", 'HC_CLABSI', 'HC_DEEPSSI', 'HC_DVTHROMBOSIS', 'HC_ALCOHOLWITHDRAWAL',\n",
    "       'HC_CARDARREST', 'HC_CAUTI', 'HC_EMBOLISM', 'HC_EXTREMITYCS',\n",
    "       'HC_INTUBATION', 'HC_KIDNEY', 'HC_MI', 'HC_ORGANSPACESSI',\n",
    "       'HC_OSTEOMYELITIS', 'HC_OTHER', 'HC_RESPIRATORY', 'HC_RETURNOR',\n",
    "       'HC_SEPSIS', 'HC_STROKECVA', 'HC_SUPERFICIALINCISIONSSI',\n",
    "       'HC_PRESSUREULCER', 'HC_UNPLANNEDICU', 'HC_VAPNEUMONIA', 'HC_NA',\n",
    "       'HC_UK']\n",
    "\n",
    "# 2017\n",
    "ae_2017 = df_2017_mod[cols]\n",
    "\n",
    "# 2018\n",
    "ae_2018 = df_2018_mod[cols]\n",
    "\n",
    "# 2019-2021\n",
    "ae_2019 = ae_df_list[0]\n",
    "ae_2020 = ae_df_list[1]\n",
    "ae_2021 = ae_df_list[2]\n",
    "\n",
    "# Concatenating\n",
    "ae_list = [ae_2017, ae_2018, ae_2019, ae_2020, ae_2021]\n",
    "ae = pd.concat(ae_list, axis=0, ignore_index=True, join='outer')\n",
    "ae"
   ]
  },
  {
   "cell_type": "code",
   "execution_count": null,
   "id": "66cd4d75-2289-4e28-8606-5f979f61a4d8",
   "metadata": {
    "tags": []
   },
   "outputs": [],
   "source": [
    "# Exporting to csv\n",
    "#ae.to_csv(cwd+\"/TQP_Processed/adverse_events_merged.csv\", index=False)"
   ]
  }
 ],
 "metadata": {
  "kernelspec": {
   "display_name": "Python 3 (ipykernel)",
   "language": "python",
   "name": "python3"
  },
  "language_info": {
   "codemirror_mode": {
    "name": "ipython",
    "version": 3
   },
   "file_extension": ".py",
   "mimetype": "text/x-python",
   "name": "python",
   "nbconvert_exporter": "python",
   "pygments_lexer": "ipython3",
   "version": "3.9.12"
  }
 },
 "nbformat": 4,
 "nbformat_minor": 5
}

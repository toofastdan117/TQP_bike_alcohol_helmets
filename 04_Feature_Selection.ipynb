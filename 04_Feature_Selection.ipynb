{
 "cells": [
  {
   "cell_type": "markdown",
   "metadata": {},
   "source": [
    "# **NTDB Feature Selection**\n",
    "### Used for selecting important features for the downstream logistic regression model"
   ]
  },
  {
   "cell_type": "code",
   "execution_count": null,
   "metadata": {},
   "outputs": [],
   "source": [
    "# Importing required packages\n",
    "import os\n",
    "import numpy as np\n",
    "import pandas as pd\n",
    "from sklearn.linear_model import Lasso, LogisticRegression\n",
    "from sklearn.preprocessing import StandardScaler, LabelEncoder\n",
    "from sklearn.impute import SimpleImputer\n",
    "from sklearn.pipeline import Pipeline\n",
    "from sklearn.model_selection import GridSearchCV, train_test_split\n",
    "\n",
    "# Setting working directory\n",
    "cwd = os.getcwd()\n",
    "print(cwd)"
   ]
  },
  {
   "cell_type": "markdown",
   "metadata": {},
   "source": [
    "## NTDB Bike data"
   ]
  },
  {
   "cell_type": "code",
   "execution_count": null,
   "metadata": {},
   "outputs": [],
   "source": [
    "# NTDB filtered trauma dataset \n",
    "df = pd.read_excel(cwd + \"/TQP_processed/trauma_filtered.xlsx\")\n",
    "df.head()"
   ]
  },
  {
   "cell_type": "code",
   "execution_count": null,
   "metadata": {},
   "outputs": [],
   "source": [
    "# Filtering for relevant features (no BIU)\n",
    "features = ['SEX', 'AGEYEARS', 'ASIAN', 'PACIFICISLANDER', 'RACEOTHER', 'AMERICANINDIAN', 'BLACK', 'WHITE', 'RACE_NA', 'RACE_UK', 'ETHNICITY', 'WORKRELATED',  'TRANSPORTMODE', 'TM_GROUNDAMBULANCE', 'TM_HELICOPTERAMBULANCE', 'TM_FIXEDWINGAMBULANCE', 'TM_PRIVPUBVEHWALKIN', 'TM_POLICE', 'TM_OTHER', 'TM_NA', 'TM_UK', 'INTERFACILITYTRANSFER', 'PREHOSPITALCARDIACARREST', 'EDDISCHARGEHRS', 'EDDISCHARGEDAYS', 'SBP', 'PULSERATE', 'TEMPERATURE', 'RESPIRATORYRATE', 'RESPIRATORYASSISTANCE', 'PULSEOXIMETRY', 'SUPPLEMENTALOXYGEN', 'HEIGHT', 'WEIGHT', 'PRIMARYMETHODPAYMENT', 'GCSEYE', 'GCSVERBAL', 'GCSMOTOR', 'TOTALGCS', 'GCSQ_SEDATEDPARALYZED', 'GCSQ_EYEOBSTRUCTION', 'GCSQ_INTUBATED', 'GCSQ_VALID', 'GCSQ_NA', 'GCSQ_UK', 'DRGSCR_AMPHETAMINE', 'DRGSCR_BARBITURATE', 'DRGSCR_BENZODIAZEPINES', 'DRGSCR_COCAINE', 'DRGSCR_METHAMPHETAMINE', 'DRGSCR_ECSTASY', 'DRGSCR_METHADONE', 'DRGSCR_OPIOID', 'DRGSCR_OXYCODONE', 'DRGSCR_PHENCYCLIDINE', 'DRGSCR_TRICYCLICDEPRESS', 'DRGSCR_CANNABINOID', 'DRGSCR_OTHER', 'DRGSCR_NONE', 'DRGSCR_NOTTESTED', 'DRGSCR_UK', 'DRGSCR_NA', 'ALCOHOLSCREEN', 'ALCOHOLSCREENRESULT', 'EDDISCHARGEDISPOSITION', 'HOSPDISCHARGEDISPOSITION', 'TOTALICULOS', 'TOTALVENTDAYS', 'FINALDISCHARGEHRS', 'FINALDISCHARGEDAYS', 'TBIHIGHESTTOTALGCS', 'TBIGCSMOTOR', 'PMGCSQ_SEDATEDPARALYZED', 'PMGCSQ_EYEOBSTRUCTION', 'PMGCSQ_INTUBATED', 'PMGCSQ_VALID', 'PMGCSQ_NA', 'PMGCSQ_UK', 'TBIPUPILLARYRESPONSE', 'TBIMIDLINESHIFT', 'ICPEVDRAIN', 'ICPPARENCH', 'ICPO2MONITOR', 'ICPJVBULB', 'ICPNONE', 'ICP_NA', 'ICP_UK', 'VTEPROPHYLAXISTYPE', 'VTEPROPHYLAXISHRS', 'VTEPROPHYLAXISDAYS', 'BLOOD4HOURS', 'PLASMA4HOURS', 'PLATELETS4HOURS', 'CRYOPRECIPITATE4HOURS', 'ANGIOGRAPHY', 'ESLIVER', 'ESSPLEEN', 'ESKIDNEY', 'ESPELVIS', 'ESRETROPERI', 'ESVASCULAR', 'ESOTHER', 'ES_UK', 'ES_NA', 'ANGIOGRAPHYHRS', 'HMRRHGCTRLSURGTYPE', 'HMRRHGCTRLSURGHRS', 'HMRRHGCTRLSURGDAYS', 'WITHDRAWALLST', 'ISS', 'TEACHINGSTATUS', 'HOSPITALTYPE', 'BEDSIZE', 'VERIFICATIONLEVEL', 'PEDIATRICVERIFICATIONLEVEL', 'STATEDESIGNATION', 'STATEPEDIATRICDESIGNATION', 'CC_ADHD', 'CC_ADLC', 'CC_ALCOHOLISM', 'CC_ANGINAPECTORIS', 'CC_ANTICOAGULANT', 'CC_BLEEDING', 'CC_CHEMO', 'CC_CIRRHOSIS', 'CC_CONGENITAL', 'CC_COPD', 'CC_CVA', 'CC_DEMENTIA', 'CC_DIABETES', 'CC_DISCANCER', 'CC_FUNCTIONAL', 'CC_CHF', 'CC_HYPERTENSION', 'CC_MI', 'CC_OTHER', 'CC_PAD', 'CC_PREMATURITY', 'CC_MENTALPERSONALITY', 'CC_RENAL', 'CC_SMOKING', 'CC_STEROID', 'CC_SUBSTANCEABUSE', 'CC_UK', 'CC_NA', 'CC_PREGNANCY', 'HC_CLABSI', 'HC_DEEPSSI', 'HC_DVTHROMBOSIS', 'HC_ALCOHOLWITHDRAWAL', 'HC_CARDARREST', 'HC_CAUTI', 'HC_EMBOLISM', 'HC_EXTREMITYCS', 'HC_INTUBATION', 'HC_KIDNEY', 'HC_MI', 'HC_ORGANSPACESSI', 'HC_OSTEOMYELITIS', 'HC_OTHER', 'HC_RESPIRATORY', 'HC_RETURNOR', 'HC_SEPSIS', 'HC_STROKECVA', 'HC_SUPERFICIALINCISIONSSI', 'HC_PRESSUREULCER', 'HC_UNPLANNEDICU', 'HC_VAPNEUMONIA', 'HC_NA', 'HC_UK', 'HC_DELIRIUM', 'sex.factor', 'age.factor', 'race.factor', 'total.drugs', 'alcohol.use']\n",
    "\n",
    "# 'PROTDEV_NONE', 'PROTDEV_LAP_BELT', 'PROTDEV_PER_FLOAT', 'PROTDEV_PROTECT_GEAR', 'PROTDEV_EYE_PROTECT', 'PROTDEV_CHILD_RESTRAINT', 'PROTDEV_HELMET', 'PROTDEV_AIRBAG_PRESENT', 'PROTDEV_PROTECT_CLOTH', 'PROTDEV_SHOULDER_BELT', 'PROTDEV_OTHER', 'PROTDEV_NA', 'PROTDEV_UK',\n",
    "\n",
    "# features that need numeric conversions\n",
    "#TEACHINGSTATUS sex.factor age.factor race.factor alcohol.use "
   ]
  },
  {
   "cell_type": "code",
   "execution_count": null,
   "metadata": {},
   "outputs": [],
   "source": [
    "# List of features to standardize (excluding categorical and binary features)\n",
    "features_to_standardize = [\"AGEYEARS\", \"SBP\", \"PULSERATE\", \"TEMPERATURE\", \"RESPIRATORYRATE\", \"HEIGHT\", \"WEIGHT\", \"EDDISCHARGEHRS\", \"EDDISCHARGEDAYS\", \"TOTALICULOS\", \"TOTALVENTDAYS\", \"FINALDISCHARGEHRS\", \"FINALDISCHARGEDAYS\", \"ISS\", \"VTEPROPHYLAXISHRS\", \"VTEPROPHYLAXISDAYS\", \"ANGIOGRAPHYHRS\", \"HMRRHGCTRLSURGHRS\", \"HMRRHGCTRLSURGDAYS\", \"total.drugs\"]\n",
    "\n",
    "# List of features that need conversion to numerical variables\n",
    "features_to_numeric = ['TEACHINGSTATUS', 'sex.factor', 'age.factor', 'race.factor', 'alcohol.use']"
   ]
  },
  {
   "cell_type": "code",
   "execution_count": null,
   "metadata": {},
   "outputs": [],
   "source": [
    "# creating features df\n",
    "X = df[features]\n",
    "scaler = StandardScaler()  #standarizing numerical values (not categorical or binary features)\n",
    "le = LabelEncoder()  #converting categorical factors (helmet, no helmet) to numeric values\n",
    "X[features_to_standardize] = scaler.fit_transform(X[features_to_standardize])\n",
    "for f in features_to_numeric:\n",
    "    X[f] = le.fit_transform(X[f])\n",
    "\n",
    "# outcomes data - helmet use\n",
    "y_raw = df[\"helmet.factor\"]\n",
    "y = le.fit_transform(y_raw)\n",
    "X.head()"
   ]
  },
  {
   "cell_type": "code",
   "execution_count": null,
   "metadata": {},
   "outputs": [],
   "source": [
    "#X.head(17).to_csv(cwd + \"/TQP_Processed/X.csv\", index=False)"
   ]
  },
  {
   "cell_type": "code",
   "execution_count": null,
   "metadata": {},
   "outputs": [],
   "source": [
    "# train test split\n",
    "X_train, X_test, y_train, y_test = train_test_split(X, y, test_size=0.30, random_state=42)"
   ]
  },
  {
   "cell_type": "code",
   "execution_count": null,
   "metadata": {},
   "outputs": [],
   "source": [
    "# Creating the pipeline - LASSO regression\n",
    "#pipeline = Pipeline([\n",
    "#    ('imputer', SimpleImputer(strategy='mean')),  # Adding an imputer to handle NaN values, replacing them with the most frequent value\n",
    "#    ('scaler', StandardScaler()),\n",
    "#    ('model', Lasso())\n",
    "#])"
   ]
  },
  {
   "cell_type": "code",
   "execution_count": null,
   "metadata": {},
   "outputs": [],
   "source": [
    "# Scaling the hyperparameters in the pipeline and setting number of cross validations - LASSO regression\n",
    "#search = GridSearchCV(pipeline, \n",
    "#                      {'model__alpha': np.arange(0.1, 3, 0.1)},  #hyperparameter tuning\n",
    "#                      cv = 5,  #cv = cross validation\n",
    "#                      scoring = 'neg_mean_squared_error',  #metric we want to optimize when selection features\n",
    "#                      verbose = 3\n",
    "#                      )"
   ]
  },
  {
   "cell_type": "code",
   "execution_count": null,
   "metadata": {},
   "outputs": [],
   "source": [
    "# Creating the pipeline - logistic regression\n",
    "pipeline = Pipeline([\n",
    "    ('imputer', SimpleImputer(strategy='mean')),  # Adding an imputer to handle NaN values, replacing them with the most frequent value\n",
    "    ('scaler', StandardScaler()),\n",
    "    ('model', LogisticRegression())\n",
    "])"
   ]
  },
  {
   "cell_type": "code",
   "execution_count": null,
   "metadata": {},
   "outputs": [],
   "source": [
    "# Scaling the hyperparameters in the pipeline and setting number of cross validations - logistic regression\n",
    "search = GridSearchCV(pipeline, \n",
    "                      {'model__C': np.logspace(-4, 4, 20)},  #hyperparameter tuning\n",
    "                      cv = 10,  #cv = 10-fold cross validation\n",
    "                      scoring = 'accuracy',  #metric we want to optimize when selection features\n",
    "                      verbose = 1\n",
    "                      )"
   ]
  },
  {
   "cell_type": "code",
   "execution_count": null,
   "metadata": {},
   "outputs": [],
   "source": [
    "# Model fitting\n",
    "search.fit(X_train, y_train)"
   ]
  },
  {
   "cell_type": "code",
   "execution_count": null,
   "metadata": {},
   "outputs": [],
   "source": [
    "# viewing the best hyperparameters alpha\n",
    "search.best_params_"
   ]
  },
  {
   "cell_type": "code",
   "execution_count": null,
   "metadata": {},
   "outputs": [],
   "source": [
    "# coefficients\n",
    "best_pipeline = search.best_estimator_\n",
    "lasso_model = best_pipeline.named_steps[\"model\"]\n",
    "coef = lasso_model.coef_\n",
    "coef = coef[0]\n",
    "coef"
   ]
  },
  {
   "cell_type": "markdown",
   "metadata": {},
   "source": [
    "### Features considered by the lasso/logistic regression"
   ]
  },
  {
   "cell_type": "code",
   "execution_count": null,
   "metadata": {},
   "outputs": [],
   "source": [
    "# Making a feature selection dataframe based on lasso/logistic regression coefficients\n",
    "colnames_coef = X.columns.tolist()\n",
    "coef_df = pd.DataFrame({\n",
    "    \"Feature\": colnames_coef,\n",
    "    \"Coefficient\": coef\n",
    "})\n",
    "coef_df[\"Abs_Coefficient\"] = np.abs(coef_df[\"Coefficient\"])\n",
    "coef_df[\"Odds_Ratio\"] = np.exp(coef_df[\"Coefficient\"])\n",
    "coef_df = coef_df.sort_values(\"Abs_Coefficient\", ascending=False)\n",
    "selected_features_list = []\n",
    "for index, row in coef_df.iterrows():\n",
    "    odds_ratio = row[\"Odds_Ratio\"]\n",
    "    if odds_ratio > 1.05 or odds_ratio < 0.95:\n",
    "        selected_features_list.append(\"selected_feature\")\n",
    "    else:\n",
    "        selected_features_list.append(\"discarded_feature\")\n",
    "coef_df[\"selected_feature\"] = selected_features_list\n",
    "coef_df\n",
    "\n",
    "# Optional export to excel\n",
    "#coef_df.to_excel(cwd + \"/tables/feature_selection.xlsx\", index=False)"
   ]
  },
  {
   "cell_type": "code",
   "execution_count": null,
   "metadata": {},
   "outputs": [],
   "source": [
    "coef_df_selected = coef_df[(coef_df[\"Odds_Ratio\"] > 1.05) | (coef_df[\"Odds_Ratio\"] < 0.95)]\n",
    "print(coef_df_selected)\n",
    "selected_features = np.array(coef_df_selected[\"Feature\"])\n",
    "selected_features"
   ]
  },
  {
   "cell_type": "markdown",
   "metadata": {},
   "source": [
    "### Features discarded by the lasso/logistic regression"
   ]
  },
  {
   "cell_type": "code",
   "execution_count": null,
   "metadata": {},
   "outputs": [],
   "source": [
    "coef_df_discarded = coef_df[coef_df[\"Odds_Ratio\"] <= 1.05]\n",
    "coef_df_discarded = coef_df_discarded[coef_df_discarded[\"Odds_Ratio\"] >= 0.95]\n",
    "print(coef_df_discarded)\n",
    "discarded_features = np.array(coef_df_discarded[\"Feature\"])\n",
    "discarded_features"
   ]
  },
  {
   "cell_type": "code",
   "execution_count": null,
   "metadata": {},
   "outputs": [],
   "source": [
    "print(len(selected_features))\n",
    "print(len(discarded_features))"
   ]
  },
  {
   "cell_type": "code",
   "execution_count": null,
   "metadata": {},
   "outputs": [],
   "source": []
  },
  {
   "cell_type": "code",
   "execution_count": null,
   "metadata": {},
   "outputs": [],
   "source": []
  },
  {
   "cell_type": "code",
   "execution_count": null,
   "metadata": {},
   "outputs": [],
   "source": []
  },
  {
   "cell_type": "code",
   "execution_count": null,
   "metadata": {},
   "outputs": [],
   "source": []
  },
  {
   "cell_type": "code",
   "execution_count": null,
   "metadata": {},
   "outputs": [],
   "source": []
  },
  {
   "cell_type": "markdown",
   "metadata": {},
   "source": [
    "## Example\n",
    "### Video used for feature selection with lasso regression: https://www.youtube.com/watch?v=KYHSMcP72A0"
   ]
  },
  {
   "cell_type": "code",
   "execution_count": null,
   "metadata": {},
   "outputs": [],
   "source": [
    "# Testing dataset\n",
    "from sklearn.datasets import load_diabetes\n",
    "X,y = load_diabetes(return_X_y=True)\n",
    "features = load_diabetes()[\"feature_names\"]\n",
    "features"
   ]
  },
  {
   "cell_type": "code",
   "execution_count": null,
   "metadata": {},
   "outputs": [],
   "source": [
    "# loading the diabetes dataset\n",
    "diabetes = load_diabetes()\n",
    "\n",
    "# features\n",
    "X = pd.DataFrame(diabetes.data, columns=diabetes.feature_names)\n",
    "\n",
    "# target outcome to predict\n",
    "y = diabetes.target\n",
    "\n",
    "X.head()"
   ]
  },
  {
   "cell_type": "code",
   "execution_count": null,
   "metadata": {},
   "outputs": [],
   "source": [
    "# train test split\n",
    "X_train, X_test, y_train, y_test = train_test_split(X, y, test_size=0.33, random_state=42)"
   ]
  },
  {
   "cell_type": "code",
   "execution_count": null,
   "metadata": {},
   "outputs": [],
   "source": [
    "# Creating our pipeline\n",
    "pipeline = Pipeline([\n",
    "    ('scaler', StandardScaler()),\n",
    "    ('model', Lasso())\n",
    "])"
   ]
  },
  {
   "cell_type": "code",
   "execution_count": null,
   "metadata": {},
   "outputs": [],
   "source": [
    "# Scaling the hyperparameters in the pipeline and setting number of cross validations\n",
    "search = GridSearchCV(pipeline, \n",
    "                      {'model__alpha': np.arange(0.1, 3, 0.1)},  #hyperparameter tuning\n",
    "                      cv = 5,  #cv = cross validation\n",
    "                      scoring = 'neg_mean_squared_error',  #metric we want to optimize when selection features\n",
    "                      verbose = 3\n",
    "                      )"
   ]
  },
  {
   "cell_type": "code",
   "execution_count": null,
   "metadata": {},
   "outputs": [],
   "source": [
    "# Model fitting\n",
    "search.fit(X_train, y_train)"
   ]
  },
  {
   "cell_type": "code",
   "execution_count": null,
   "metadata": {},
   "outputs": [],
   "source": [
    "# viewing the best hyperparameters alpha\n",
    "search.best_params_"
   ]
  },
  {
   "cell_type": "code",
   "execution_count": null,
   "metadata": {},
   "outputs": [],
   "source": [
    "# coefficients\n",
    "coef = search.best_estimator_[1].coef_\n",
    "coef"
   ]
  },
  {
   "cell_type": "markdown",
   "metadata": {},
   "source": [
    "### Features considered by the lasso regression"
   ]
  },
  {
   "cell_type": "code",
   "execution_count": null,
   "metadata": {},
   "outputs": [],
   "source": [
    "np.array(features)[coef != 0]"
   ]
  },
  {
   "cell_type": "markdown",
   "metadata": {},
   "source": [
    "### Features discarded by the lasso regression"
   ]
  },
  {
   "cell_type": "code",
   "execution_count": null,
   "metadata": {},
   "outputs": [],
   "source": [
    "np.array(features)[coef == 0]"
   ]
  }
 ],
 "metadata": {
  "kernelspec": {
   "display_name": "base",
   "language": "python",
   "name": "python3"
  },
  "language_info": {
   "codemirror_mode": {
    "name": "ipython",
    "version": 3
   },
   "file_extension": ".py",
   "mimetype": "text/x-python",
   "name": "python",
   "nbconvert_exporter": "python",
   "pygments_lexer": "ipython3",
   "version": "3.9.12"
  }
 },
 "nbformat": 4,
 "nbformat_minor": 2
}

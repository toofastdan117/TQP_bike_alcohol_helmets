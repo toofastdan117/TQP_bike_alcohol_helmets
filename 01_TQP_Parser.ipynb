{
 "cells": [
  {
   "cell_type": "markdown",
   "id": "51385b09-c912-4a40-ad56-8798f6e3c77c",
   "metadata": {},
   "source": [
    "# **NTDB TQP Parser**"
   ]
  },
  {
   "cell_type": "markdown",
   "id": "9ca73888-ca93-49b3-912d-0f23d590b0aa",
   "metadata": {},
   "source": [
    "### Importing required packages, defining file directories, and defining useful functions"
   ]
  },
  {
   "cell_type": "code",
   "execution_count": null,
   "id": "b2787e0e-a0b9-4afa-9b38-e2e8eaa4bf5b",
   "metadata": {},
   "outputs": [],
   "source": [
    "# Importing required packages\n",
    "import os\n",
    "import glob\n",
    "import re\n",
    "import pandas as pd\n",
    "pd.options.mode.chained_assignment = None  # default='warn'\n",
    "import numpy as np\n",
    "from collections import Counter\n",
    "from tableone import TableOne\n",
    "\n",
    "# Setting the file directory for this folder and for the raw data (stored in another HD because it's huge)\n",
    "cwd = os.getcwd()\n",
    "print(cwd)\n",
    "raw_wd = \"I:/BCM_projects/Bike-Injuries/NTDB\""
   ]
  },
  {
   "cell_type": "code",
   "execution_count": null,
   "id": "cd44d50f-c619-4499-a2a4-56ba41b5a175",
   "metadata": {},
   "outputs": [],
   "source": [
    "def csv_importer(filepath, rows):\n",
    "    \"\"\"\n",
    "    Function to import a list of csv files as a named dictionary of dfs, viewing the shape and head of each df\n",
    "    Inputs:\n",
    "    filepath = full filepath to the CSV folder for each NTDB TQP year\n",
    "    rows = number of rows to parse (either 10 or 'None' to parse all)\\\n",
    "    Outputs:\n",
    "    print statements to display shape and head of dfs \n",
    "    named dictionary of all csv dfs in the csv folder\n",
    "    \"\"\"\n",
    "    # Finding and printing a list of csv files\n",
    "    csv_files = glob.glob(filepath + \"/*.csv\")\n",
    "    print(\"csv file list:\")\n",
    "    [print(file) for file in csv_files][0]\n",
    "    \n",
    "    # Importing all csv files as a named dictionary of dfs, viewing the shape and head of each df\n",
    "    df_dict = {}\n",
    "    for csv in csv_files:\n",
    "        df_name = re.findall(\"\\\\\\\\(.*?).csv\", csv)[0]\n",
    "        try:\n",
    "            df = pd.read_csv(csv, nrows=rows)\n",
    "            df.columns = [s.upper() for s in df.columns]\n",
    "        except:\n",
    "            df = pd.read_csv(csv, nrows=rows, encoding='latin-1')\n",
    "            df.columns = [s.upper() for s in df.columns]\n",
    "            print(\"\\nAlternate encoding used for {}\".format(df_name))\n",
    "        df_dict[df_name] = df\n",
    "        df_shape = str(df.shape)\n",
    "        print(\"\\n\" + df_name + \" - Dimensions: \" + df_shape)\n",
    "        display(df.head())\n",
    "    return(df_dict)"
   ]
  },
  {
   "cell_type": "code",
   "execution_count": null,
   "id": "58791a5e-9c8a-4abd-bd15-ec5d8afe614a",
   "metadata": {},
   "outputs": [],
   "source": [
    "def stat_printer(df):\n",
    "    \"\"\"\n",
    "    Function to display some statistics of dataframes.  Input df MUST have an \"INC_KEY\" column.\n",
    "    Input: a dataframe with an INC_KEY column\n",
    "    Outputs: print/display statements with statistics about the dataframe\n",
    "    \"\"\"\n",
    "    x = len(df[\"INC_KEY\"].unique())\n",
    "    print(\"Shape: {0}\\nUnique INC KEYS: {1}\".format(str(df.shape), str(x)))\n",
    "    display(df.head())"
   ]
  },
  {
   "cell_type": "markdown",
   "id": "5e4d0e26-d0e4-48c1-98f9-baf698e49af5",
   "metadata": {},
   "source": [
    "## **Importing and Cleaning Files for 2017**"
   ]
  },
  {
   "cell_type": "code",
   "execution_count": null,
   "id": "304f785a-11ae-4d5e-85ad-4f767729d016",
   "metadata": {
    "tags": []
   },
   "outputs": [],
   "source": [
    "puf_2017 = csv_importer(filepath=\"I:/BCM_projects/Bike-Injuries/NTDB/PUF AY 2017/CSV\", rows=None)"
   ]
  },
  {
   "cell_type": "markdown",
   "id": "281e5803-5657-4c61-924e-69b9bbd43ca6",
   "metadata": {},
   "source": [
    "### Trauma"
   ]
  },
  {
   "cell_type": "code",
   "execution_count": null,
   "id": "069b16da-1239-40ed-871c-6f09114eb45b",
   "metadata": {},
   "outputs": [],
   "source": [
    "# Selecting pedal cyclist injuries from ICD-10 codes\n",
    "icd10_biker_ecodes = [\"V10.0XXA\", \"V10.2XXA\", \"V10.4XXA\", \"V11.0XXA\", \"V11.1XXA\", \"V11.2XXA\", \"V11.4XXA\", \"V12.0XXA\", \"V12.4XXA\", \"V12.5XXA\", \n",
    "                      \"V12.9XXA\", \"V13.0XXA\", \"V13.1XXA\", \"V13.2XXA\", \"V13.3XXA\", \"V13.4XXA\", \"V13.5XXA\", \"V13.9XXA\", \"V14.0XXA\", \"V14.4XXA\", \n",
    "                      \"V14.5XXA\", \"V14.9XXA\", \"V15.4XXA\", \"V16.0XXA\", \"V16.4XXA\", \"V17.0XXA\", \"V17.1XXA\", \"V17.2XXA\", \"V17.3XXA\", \"V17.4XXA\", \n",
    "                      \"V17.9XXA\", \"V18.0XXA\", \"V18.1XXA\", \"V18.2XXA\", \"V18.3XXA\", \"V18.4XXA\", \"V18.5XXA\", \"V18.9XXA\", \"V19.00XA\", \"V19.09XA\", \n",
    "                      \"V19.3XXA\", \"V19.40XA\", \"V19.49XA\", \"V19.59XA\", \"V19.60XA\", \"V19.88XA\", \"V19.9XXA\"]\n",
    "icd10_ecode_bikes = puf_2017[\"PUF_ECODE_LOOKUP\"]\n",
    "icd10_ecode_bikes = icd10_ecode_bikes[icd10_ecode_bikes[\"ECODE\"].isin(icd10_biker_ecodes)]\n",
    "ecode_dict = dict(list(zip(icd10_ecode_bikes[\"ECODE\"], icd10_ecode_bikes[\"ECODE_DESC\"])))\n",
    "#icd10_ecode_bikes\n",
    "\n",
    "# Filtering the major trauma df for bike injuries and annotating with ecode descriptions\n",
    "trauma = puf_2017[\"PUF_TRAUMA\"]\n",
    "trauma_bikes = trauma[trauma[\"PRIMARYECODEICD10\"].isin(icd10_biker_ecodes)]\n",
    "trauma_bikes[\"ECODE_DESC\"] = trauma_bikes[\"PRIMARYECODEICD10\"].map(ecode_dict)\n",
    "trauma_bikes[\"Year\"] = 2017\n",
    "inc_keys = pd.Series(trauma_bikes[\"INC_KEY\"]) #getting a list of INC_KEYS to filter other dfs\n",
    "year = 2017\n",
    "n_total = len(trauma[\"INC_KEY\"].unique())\n",
    "n_bikers = len(trauma_bikes[\"INC_KEY\"].unique())\n",
    "frac_bikers = np.round((n_bikers / n_total) * 100, 3)\n",
    "print(\"In the year {0} there were {1}/{2} pedalcylist trauma injuries / total trauama injuries ({3}%)\".format(year, n_bikers, n_total, frac_bikers))\n",
    "stat_printer(trauma_bikes)\n",
    "\n",
    "# Optional export to CSV\n",
    "#trauma_bikes.to_csv(cwd+\"/TQP_Files/main/2017_trauma.csv\", index=False)"
   ]
  },
  {
   "cell_type": "markdown",
   "id": "a4c1cc9d-a43f-4b7a-9678-a0e8c5dd993d",
   "metadata": {},
   "source": [
    "### Injury Severity Score (AIS)"
   ]
  },
  {
   "cell_type": "code",
   "execution_count": null,
   "id": "1d80ccf3-1505-4785-91fd-47cd05457e3e",
   "metadata": {},
   "outputs": [],
   "source": [
    "# Filtering PUF_AISDIAGNOSIS for biker INC_KEYS\n",
    "ais = puf_2017[\"PUF_AISDIAGNOSIS\"]\n",
    "ais_bikes = ais[ais[\"INC_KEY\"].isin(inc_keys)]\n",
    "\n",
    "# Merging with AISPREDOT descriptions\n",
    "ais_lookup = puf_2017[\"PUF_AISDIAGNOSIS_LOOKUP\"]\n",
    "ais_lookup[\"AISPREDOT\"] = ais_lookup[\"AISPREDOT\"].astype(float)\n",
    "ais_lookup = ais_lookup.drop([\"AISSEVERITY\", \"AISVERSION\"], axis=1)\n",
    "ais_bikes = pd.merge(ais_bikes, ais_lookup, how=\"left\", on=\"AISPREDOT\")\n",
    "\n",
    "# Merging with AIS05TO98_CROSSWALK\n",
    "ais_cross = puf_2017[\"PUF_AIS05TO98_CROSSWALK\"]\n",
    "ais_cross.columns = ['AISPREDOT', 'AIS05_SEVERITY', 'AIS98_PREDOT', 'AIS98_SEVERITY', 'AIS98_DESCRIPTION']\n",
    "ais_cross[\"AISPREDOT\"] = ais_cross[\"AISPREDOT\"].astype(float)\n",
    "ais_cross = ais_cross.drop(\"AIS05_SEVERITY\", axis=1)\n",
    "ais_bikes = pd.merge(ais_bikes, ais_cross, how=\"left\", on=\"AISPREDOT\")\n",
    "ais_bikes[\"Year\"] = 2017\n",
    "stat_printer(ais_bikes)\n",
    "\n",
    "# Optional export to CSV\n",
    "#ais_bikes.to_csv(cwd+\"/TQP_Files/ais/2017_AIS.csv\", index=False)"
   ]
  },
  {
   "cell_type": "markdown",
   "id": "5c36502f-05ef-4514-8650-6f22c1495095",
   "metadata": {},
   "source": [
    "### Diagnosis"
   ]
  },
  {
   "cell_type": "code",
   "execution_count": null,
   "id": "4ce56bd4-5a9f-4e3e-a7fd-ddecff2acfda",
   "metadata": {},
   "outputs": [],
   "source": [
    "# Filtering PUF_AISDIAGNOSIS for biker INC_KEYS\n",
    "diag = puf_2017[\"PUF_ICDDIAGNOSIS\"]\n",
    "diag_bikes = diag[diag[\"INC_KEY\"].isin(inc_keys)]\n",
    "\n",
    "# Merging with ICDDIAGNOSISCODE descriptions\n",
    "diag_loopup = puf_2017[\"PUF_ICDDIAGNOSIS_LOOKUP\"]\n",
    "diag_loopup = diag_loopup.drop(\"ICD_VERSION\", axis=1)\n",
    "diag_bikes = pd.merge(diag_bikes, diag_loopup, how=\"left\", on=\"ICDDIAGNOSISCODE\")\n",
    "diag_bikes[\"Year\"] = 2017\n",
    "stat_printer(diag_bikes)\n",
    "\n",
    "# Optional export to CSV\n",
    "#diag_bikes.to_csv(cwd+\"/TQP_Files/diagnosis/2017_diagnosis.csv\", index=False)"
   ]
  },
  {
   "cell_type": "markdown",
   "id": "7a3c2d0c-ca93-416f-b645-11ac74a8b22f",
   "metadata": {},
   "source": [
    "### Procedures"
   ]
  },
  {
   "cell_type": "code",
   "execution_count": null,
   "id": "9e434f46-fe26-40a9-a833-52308f35d42e",
   "metadata": {},
   "outputs": [],
   "source": [
    "# Filtering PUF_ICDPROCEDURE for biker INC_KEYS\n",
    "proced = puf_2017[\"PUF_ICDPROCEDURE\"]\n",
    "proced_bikes = proced[proced[\"INC_KEY\"].isin(inc_keys)]\n",
    "\n",
    "# Merging with ICDPROCEDURECODE descriptions\n",
    "proced_loopup = puf_2017[\"PUF_ICDPROCEDURE_LOOKUP\"]\n",
    "proced_loopup = proced_loopup.drop(\"ICD_VERSION\", axis=1)\n",
    "proced_bikes = pd.merge(proced_bikes, proced_loopup, how=\"left\", on=\"ICDPROCEDURECODE\")\n",
    "proced_bikes[\"Year\"] = 2017\n",
    "stat_printer(proced_bikes)\n",
    "\n",
    "# Optional export to CSV\n",
    "#proced_bikes.to_csv(cwd+\"/TQP_Files/procedures/2017_procedures.csv\", index=False)"
   ]
  },
  {
   "cell_type": "markdown",
   "id": "87b59421-9704-4220-8080-f2016417ca8f",
   "metadata": {},
   "source": [
    "## **Importing and Cleaning Files for 2018**"
   ]
  },
  {
   "cell_type": "code",
   "execution_count": null,
   "id": "26cc1138-a06d-4240-9ca1-be366fb44349",
   "metadata": {
    "tags": []
   },
   "outputs": [],
   "source": [
    "puf_2018 = csv_importer(filepath=\"I:/BCM_projects/Bike-Injuries/NTDB/PUF AY 2018/CSV\", rows=None)"
   ]
  },
  {
   "cell_type": "markdown",
   "id": "4d836070-0393-450a-9099-c79d6730d77f",
   "metadata": {},
   "source": [
    "### Trauma"
   ]
  },
  {
   "cell_type": "code",
   "execution_count": null,
   "id": "2c22f2d5-939f-43e1-bdaa-aa4ef80b698e",
   "metadata": {},
   "outputs": [],
   "source": [
    "# Selecting pedal cyclist injuries from ICD-10 codes\n",
    "icd10_biker_ecodes = [\"V10.0XXA\", \"V10.2XXA\", \"V10.4XXA\", \"V11.0XXA\", \"V11.1XXA\", \"V11.2XXA\", \"V11.4XXA\", \"V12.0XXA\", \"V12.4XXA\", \"V12.5XXA\", \n",
    "                      \"V12.9XXA\", \"V13.0XXA\", \"V13.1XXA\", \"V13.2XXA\", \"V13.3XXA\", \"V13.4XXA\", \"V13.5XXA\", \"V13.9XXA\", \"V14.0XXA\", \"V14.4XXA\", \n",
    "                      \"V14.5XXA\", \"V14.9XXA\", \"V15.4XXA\", \"V16.0XXA\", \"V16.4XXA\", \"V17.0XXA\", \"V17.1XXA\", \"V17.2XXA\", \"V17.3XXA\", \"V17.4XXA\", \n",
    "                      \"V17.9XXA\", \"V18.0XXA\", \"V18.1XXA\", \"V18.2XXA\", \"V18.3XXA\", \"V18.4XXA\", \"V18.5XXA\", \"V18.9XXA\", \"V19.00XA\", \"V19.09XA\", \n",
    "                      \"V19.3XXA\", \"V19.40XA\", \"V19.49XA\", \"V19.59XA\", \"V19.60XA\", \"V19.88XA\", \"V19.9XXA\"]\n",
    "icd10_ecode_bikes = puf_2018[\"PUF_ECODE_LOOKUP\"]\n",
    "icd10_ecode_bikes = icd10_ecode_bikes[icd10_ecode_bikes[\"ECODE\"].isin(icd10_biker_ecodes)]\n",
    "ecode_dict = dict(list(zip(icd10_ecode_bikes[\"ECODE\"], icd10_ecode_bikes[\"ECODE_DESC\"])))\n",
    "\n",
    "# Filtering the major trauma df for bike injuries and annotating with ecode descriptions\n",
    "trauma = puf_2018[\"PUF_TRAUMA\"]\n",
    "trauma_bikes = trauma[trauma[\"PRIMARYECODEICD10\"].isin(icd10_biker_ecodes)]\n",
    "trauma_bikes[\"ECODE_DESC\"] = trauma_bikes[\"PRIMARYECODEICD10\"].map(ecode_dict)\n",
    "trauma_bikes[\"Year\"] = 2018\n",
    "inc_keys = pd.Series(trauma_bikes[\"INC_KEY\"]) #getting a list of INC_KEYS to filter other dfs\n",
    "year = 2018\n",
    "n_total = len(trauma[\"INC_KEY\"].unique())\n",
    "n_bikers = len(trauma_bikes[\"INC_KEY\"].unique())\n",
    "frac_bikers = np.round((n_bikers / n_total) * 100, 3)\n",
    "print(\"In the year {0} there were {1}/{2} pedalcylist trauma injuries / total trauama injuries ({3}%)\".format(year, n_bikers, n_total, frac_bikers))\n",
    "stat_printer(trauma_bikes)\n",
    "\n",
    "# Optional export to CSV\n",
    "#trauma_bikes.to_csv(cwd+\"/TQP_Files/main/2018_trauma.csv\", index=False)"
   ]
  },
  {
   "cell_type": "markdown",
   "id": "752ff525-752f-4d43-8b5b-a9e579b87863",
   "metadata": {},
   "source": [
    "### Injury Severity Score (AIS)"
   ]
  },
  {
   "cell_type": "code",
   "execution_count": null,
   "id": "a62d1822-ad73-4ef6-ad3d-2bad2b822224",
   "metadata": {},
   "outputs": [],
   "source": [
    "# Filtering PUF_AISDIAGNOSIS for biker INC_KEYS\n",
    "ais = puf_2018[\"PUF_AISDIAGNOSIS\"]\n",
    "ais_bikes = ais[ais[\"INC_KEY\"].isin(inc_keys)]\n",
    "\n",
    "# Merging with AISPREDOT descriptions\n",
    "ais_lookup = puf_2018[\"PUF_AISDIAGNOSIS_LOOKUP\"]\n",
    "ais_lookup[\"AISPREDOT\"] = ais_lookup[\"AISPREDOT\"].astype(float)\n",
    "ais_lookup = ais_lookup.drop([\"AISSEVERITY\", \"AISVERSION\"], axis=1)\n",
    "ais_bikes = pd.merge(ais_bikes, ais_lookup, how=\"left\", on=\"AISPREDOT\")\n",
    "\n",
    "# Merging with AIS05TO98_CROSSWALK\n",
    "ais_cross = puf_2018[\"PUF_AIS05TO98_CROSSWALK\"]\n",
    "ais_cross.columns = ['AISPREDOT', 'AIS05_SEVERITY', 'AIS98_PREDOT', 'AIS98_SEVERITY', 'AIS98_DESCRIPTION']\n",
    "ais_cross[\"AISPREDOT\"] = ais_cross[\"AISPREDOT\"].astype(float)\n",
    "ais_cross = ais_cross.drop(\"AIS05_SEVERITY\", axis=1)\n",
    "ais_bikes = pd.merge(ais_bikes, ais_cross, how=\"left\", on=\"AISPREDOT\")\n",
    "ais_bikes[\"Year\"] = 2018\n",
    "stat_printer(ais_bikes)\n",
    "\n",
    "# Optional export to CSV\n",
    "#ais_bikes.to_csv(cwd+\"/TQP_Files/ais/2018_AIS.csv\", index=False)"
   ]
  },
  {
   "cell_type": "markdown",
   "id": "4bc784db-e906-4bdb-b494-cb0849b92c22",
   "metadata": {},
   "source": [
    "### Diagnosis"
   ]
  },
  {
   "cell_type": "code",
   "execution_count": null,
   "id": "91794cae-24cc-4bcc-b419-2c6ce2e90df2",
   "metadata": {},
   "outputs": [],
   "source": [
    "# Filtering PUF_AISDIAGNOSIS for biker INC_KEYS\n",
    "diag = puf_2018[\"PUF_ICDDIAGNOSIS\"]\n",
    "diag_bikes = diag[diag[\"INC_KEY\"].isin(inc_keys)]\n",
    "\n",
    "# Merging with ICDDIAGNOSISCODE descriptions\n",
    "diag_loopup = puf_2018[\"PUF_ICDDIAGNOSIS_LOOKUP\"]\n",
    "diag_loopup = diag_loopup.drop(\"ICD_VERSION\", axis=1)\n",
    "diag_bikes = pd.merge(diag_bikes, diag_loopup, how=\"left\", on=\"ICDDIAGNOSISCODE\")\n",
    "diag_bikes[\"Year\"] = 2018\n",
    "stat_printer(diag_bikes)\n",
    "\n",
    "# Optional export to CSV\n",
    "#diag_bikes.to_csv(cwd+\"/TQP_Files/diagnosis/2018_diagnosis.csv\", index=False)"
   ]
  },
  {
   "cell_type": "markdown",
   "id": "1957645d-52bb-4822-bf88-c9b35d1e2771",
   "metadata": {},
   "source": [
    "### Procedures"
   ]
  },
  {
   "cell_type": "code",
   "execution_count": null,
   "id": "b581600f-d4e5-4238-aa16-6b8814cd5ddc",
   "metadata": {},
   "outputs": [],
   "source": [
    "# Filtering PUF_ICDPROCEDURE for biker INC_KEYS\n",
    "proced = puf_2018[\"PUF_ICDPROCEDURE\"]\n",
    "proced_bikes = proced[proced[\"INC_KEY\"].isin(inc_keys)]\n",
    "\n",
    "# Merging with ICDPROCEDURECODE descriptions\n",
    "proced_loopup = puf_2018[\"PUF_ICDPROCEDURE_LOOKUP\"]\n",
    "proced_loopup = proced_loopup.drop(\"ICD_VERSION\", axis=1)\n",
    "proced_bikes = pd.merge(proced_bikes, proced_loopup, how=\"left\", on=\"ICDPROCEDURECODE\")\n",
    "proced_bikes[\"Year\"] = 2018\n",
    "stat_printer(proced_bikes)\n",
    "\n",
    "# Optional export to CSV\n",
    "#proced_bikes.to_csv(cwd+\"/TQP_Files/procedures/2018_procedures.csv\", index=False)"
   ]
  },
  {
   "cell_type": "markdown",
   "id": "e4315198-2921-4c5d-85a1-adefba0121a5",
   "metadata": {},
   "source": [
    "## **Importing and Cleaning Files for 2019**"
   ]
  },
  {
   "cell_type": "code",
   "execution_count": null,
   "id": "182d8370-7eb9-4ac9-a771-3ea5748bb509",
   "metadata": {
    "tags": []
   },
   "outputs": [],
   "source": [
    "puf_2019 = csv_importer(filepath=\"I:/BCM_projects/Bike-Injuries/NTDB/PUF AY 2019/CSV\", rows=None)"
   ]
  },
  {
   "cell_type": "markdown",
   "id": "9356333b-6e32-4cc7-8970-10bfbc3c5eb9",
   "metadata": {},
   "source": [
    "### Trauma"
   ]
  },
  {
   "cell_type": "code",
   "execution_count": null,
   "id": "8a6afb7e-e0d4-42c7-9e51-660bc3c9fccf",
   "metadata": {},
   "outputs": [],
   "source": [
    "# Selecting pedal cyclist injuries from ICD-10 codes\n",
    "icd10_biker_ecodes = [\"V10.0XXA\", \"V10.2XXA\", \"V10.4XXA\", \"V11.0XXA\", \"V11.1XXA\", \"V11.2XXA\", \"V11.4XXA\", \"V12.0XXA\", \"V12.4XXA\", \"V12.5XXA\", \n",
    "                      \"V12.9XXA\", \"V13.0XXA\", \"V13.1XXA\", \"V13.2XXA\", \"V13.3XXA\", \"V13.4XXA\", \"V13.5XXA\", \"V13.9XXA\", \"V14.0XXA\", \"V14.4XXA\", \n",
    "                      \"V14.5XXA\", \"V14.9XXA\", \"V15.4XXA\", \"V16.0XXA\", \"V16.4XXA\", \"V17.0XXA\", \"V17.1XXA\", \"V17.2XXA\", \"V17.3XXA\", \"V17.4XXA\", \n",
    "                      \"V17.9XXA\", \"V18.0XXA\", \"V18.1XXA\", \"V18.2XXA\", \"V18.3XXA\", \"V18.4XXA\", \"V18.5XXA\", \"V18.9XXA\", \"V19.00XA\", \"V19.09XA\", \n",
    "                      \"V19.3XXA\", \"V19.40XA\", \"V19.49XA\", \"V19.59XA\", \"V19.60XA\", \"V19.88XA\", \"V19.9XXA\"]\n",
    "icd10_ecode_bikes = puf_2019[\"PUF_ECODE_LOOKUP\"]\n",
    "icd10_ecode_bikes = icd10_ecode_bikes[icd10_ecode_bikes[\"ECODE\"].isin(icd10_biker_ecodes)]\n",
    "ecode_dict = dict(list(zip(icd10_ecode_bikes[\"ECODE\"], icd10_ecode_bikes[\"ECODE_DESC\"])))\n",
    "\n",
    "# Filtering the major trauma df for bike injuries and annotating with ecode descriptions\n",
    "trauma = puf_2019[\"PUF_TRAUMA\"]\n",
    "trauma_bikes = trauma[trauma[\"PRIMARYECODEICD10\"].isin(icd10_biker_ecodes)]\n",
    "trauma_bikes[\"ECODE_DESC\"] = trauma_bikes[\"PRIMARYECODEICD10\"].map(ecode_dict)\n",
    "trauma_bikes[\"Year\"] = 2019\n",
    "inc_keys = pd.Series(trauma_bikes[\"INC_KEY\"]) #getting a list of INC_KEYS to filter other dfs\n",
    "year = 2019\n",
    "n_total = len(trauma[\"INC_KEY\"].unique())\n",
    "n_bikers = len(trauma_bikes[\"INC_KEY\"].unique())\n",
    "frac_bikers = np.round((n_bikers / n_total) * 100, 3)\n",
    "print(\"In the year {0} there were {1}/{2} pedalcylist trauma injuries / total trauama injuries ({3}%)\".format(year, n_bikers, n_total, frac_bikers))\n",
    "stat_printer(trauma_bikes)\n",
    "\n",
    "# Optional export to CSV\n",
    "#trauma_bikes.to_csv(cwd+\"/TQP_Files/main/2019_trauma.csv\", index=False)"
   ]
  },
  {
   "cell_type": "markdown",
   "id": "9c474c0a-0234-4e1b-b26c-f3ca32aea5d7",
   "metadata": {},
   "source": [
    "### Injury Severity Score (AIS)"
   ]
  },
  {
   "cell_type": "code",
   "execution_count": null,
   "id": "043c2641-7be0-4c26-b64f-54cfd63fbad5",
   "metadata": {},
   "outputs": [],
   "source": [
    "# Filtering PUF_AISDIAGNOSIS for biker INC_KEYS\n",
    "ais = puf_2019[\"PUF_AISDIAGNOSIS\"]\n",
    "ais_bikes = ais[ais[\"INC_KEY\"].isin(inc_keys)]\n",
    "\n",
    "# Merging with AISPREDOT descriptions\n",
    "ais_lookup = puf_2019[\"PUF_AISDIAGNOSIS_LOOKUP\"]\n",
    "ais_lookup[\"AISPREDOT\"] = ais_lookup[\"AISPREDOT\"].astype(float)\n",
    "ais_lookup = ais_lookup.drop([\"AISSEVERITY\", \"AISVERSION\"], axis=1)\n",
    "ais_bikes = pd.merge(ais_bikes, ais_lookup, how=\"left\", on=\"AISPREDOT\")\n",
    "\n",
    "# Merging with AIS05TO98_CROSSWALK\n",
    "ais_cross = puf_2019[\"PUF_AIS05TO98_CROSSWALK\"]\n",
    "ais_cross.columns = ['AISPREDOT', 'AIS05_SEVERITY', 'AIS98_PREDOT', 'AIS98_SEVERITY', 'AIS98_DESCRIPTION']\n",
    "ais_cross[\"AISPREDOT\"] = ais_cross[\"AISPREDOT\"].astype(float)\n",
    "ais_cross = ais_cross.drop(\"AIS05_SEVERITY\", axis=1)\n",
    "ais_bikes = pd.merge(ais_bikes, ais_cross, how=\"left\", on=\"AISPREDOT\")\n",
    "ais_bikes[\"Year\"] = 2019\n",
    "stat_printer(ais_bikes)\n",
    "\n",
    "# Optional export to CSV\n",
    "#ais_bikes.to_csv(cwd+\"/TQP_Files/ais/2019_AIS.csv\", index=False)"
   ]
  },
  {
   "cell_type": "markdown",
   "id": "8dc2be74-6a2b-4857-ac0b-e03b3c81933f",
   "metadata": {},
   "source": [
    "### Hospital events"
   ]
  },
  {
   "cell_type": "code",
   "execution_count": null,
   "id": "6a267274-97aa-4b46-b09c-be1d05b4c859",
   "metadata": {},
   "outputs": [],
   "source": [
    "# Filtering PUF_HOSPITALEVENTS for biker INC_KEYS\n",
    "events = puf_2019[\"PUF_HOSPITALEVENTS\"]\n",
    "events_bikes = events[events[\"INC_KEY\"].isin(inc_keys)]\n",
    "events_bikes[\"Year\"] = 2019\n",
    "stat_printer(events_bikes)\n",
    "\n",
    "# Optional export to CSV\n",
    "#events_bikes.to_csv(cwd+\"/TQP_Files/events/2019_events.csv\", index=False)"
   ]
  },
  {
   "cell_type": "markdown",
   "id": "77d95530-8951-4a72-b34d-85c009802bb2",
   "metadata": {},
   "source": [
    "### Diagnosis"
   ]
  },
  {
   "cell_type": "code",
   "execution_count": null,
   "id": "53c3b869-5b68-4b92-bf2e-9b55923a622f",
   "metadata": {},
   "outputs": [],
   "source": [
    "# Filtering PUF_AISDIAGNOSIS for biker INC_KEYS\n",
    "diag = puf_2019[\"PUF_ICDDIAGNOSIS\"]\n",
    "diag_bikes = diag[diag[\"INC_KEY\"].isin(inc_keys)]\n",
    "\n",
    "# Merging with ICDDIAGNOSISCODE descriptions\n",
    "diag_loopup = puf_2019[\"PUF_ICDDIAGNOSIS_LOOKUP\"]\n",
    "diag_loopup = diag_loopup.drop(\"ICD_VERSION\", axis=1)\n",
    "diag_bikes = pd.merge(diag_bikes, diag_loopup, how=\"left\", on=\"ICDDIAGNOSISCODE\")\n",
    "diag_bikes[\"Year\"] = 2019\n",
    "stat_printer(diag_bikes)\n",
    "\n",
    "# Optional export to CSV\n",
    "#diag_bikes.to_csv(cwd+\"/TQP_Files/diagnosis/2019_diagnosis.csv\", index=False)"
   ]
  },
  {
   "cell_type": "markdown",
   "id": "0ed58c01-b6b1-4c9c-b963-75380b92add1",
   "metadata": {},
   "source": [
    "### Procedures"
   ]
  },
  {
   "cell_type": "code",
   "execution_count": null,
   "id": "f3850f23-2869-497e-8d8c-39a912fd5992",
   "metadata": {},
   "outputs": [],
   "source": [
    "# Filtering PUF_ICDPROCEDURE for biker INC_KEYS\n",
    "proced = puf_2019[\"PUF_ICDPROCEDURE\"]\n",
    "proced_bikes = proced[proced[\"INC_KEY\"].isin(inc_keys)]\n",
    "\n",
    "# Merging with ICDPROCEDURECODE descriptions\n",
    "proced_loopup = puf_2019[\"PUF_ICDPROCEDURE_LOOKUP\"]\n",
    "proced_loopup = proced_loopup.drop(\"ICD_VERSION\", axis=1)\n",
    "proced_bikes = pd.merge(proced_bikes, proced_loopup, how=\"left\", on=\"ICDPROCEDURECODE\")\n",
    "proced_bikes[\"Year\"] = 2019\n",
    "stat_printer(proced_bikes)\n",
    "\n",
    "# Optional export to CSV\n",
    "#proced_bikes.to_csv(cwd+\"/TQP_Files/procedures/2019_procedures.csv\", index=False)"
   ]
  },
  {
   "cell_type": "markdown",
   "id": "7e28e2f2-80eb-4ae6-88ea-23b2b9423324",
   "metadata": {},
   "source": [
    "### Preexisting Conditions"
   ]
  },
  {
   "cell_type": "code",
   "execution_count": null,
   "id": "c47b1069-dc0d-4c27-958c-4f8f2f588e30",
   "metadata": {},
   "outputs": [],
   "source": [
    "# Filtering PUF_HOSPITALEVENTS for biker INC_KEYS\n",
    "pre = puf_2019[\"PUF_PREEXISTINGCONDITIONS\"]\n",
    "pre_bikes = pre[pre[\"INC_KEY\"].isin(inc_keys)]\n",
    "pre_bikes[\"Year\"] = 2019\n",
    "stat_printer(pre_bikes)\n",
    "\n",
    "# Optional export to CSV\n",
    "#pre_bikes.to_csv(cwd+\"/TQP_Files/preexisting/2019_preexisting_conditions.csv\", index=False)"
   ]
  },
  {
   "cell_type": "markdown",
   "id": "cd226bb5-c396-4fac-a021-e90b2e79a0c4",
   "metadata": {
    "tags": []
   },
   "source": [
    "## **Importing and Cleaning Files for 2020**"
   ]
  },
  {
   "cell_type": "code",
   "execution_count": null,
   "id": "a1ddb251-2f68-437b-83cf-f7399b020192",
   "metadata": {
    "tags": []
   },
   "outputs": [],
   "source": [
    "puf_2020 = csv_importer(filepath=\"I:/BCM_projects/Bike-Injuries/NTDB/PUF AY 2020/CSV\", rows=None)"
   ]
  },
  {
   "cell_type": "markdown",
   "id": "f073788d-1a44-4adf-af94-5fc2c109b320",
   "metadata": {},
   "source": [
    "### Trauma"
   ]
  },
  {
   "cell_type": "code",
   "execution_count": null,
   "id": "2c9f2911-3abc-4996-8d26-1e652162563a",
   "metadata": {},
   "outputs": [],
   "source": [
    "# Selecting pedal cyclist injuries from ICD-10 codes\n",
    "icd10_biker_ecodes = [\"V10.0XXA\", \"V10.2XXA\", \"V10.4XXA\", \"V11.0XXA\", \"V11.1XXA\", \"V11.2XXA\", \"V11.4XXA\", \"V12.0XXA\", \"V12.4XXA\", \"V12.5XXA\", \n",
    "                      \"V12.9XXA\", \"V13.0XXA\", \"V13.1XXA\", \"V13.2XXA\", \"V13.3XXA\", \"V13.4XXA\", \"V13.5XXA\", \"V13.9XXA\", \"V14.0XXA\", \"V14.4XXA\", \n",
    "                      \"V14.5XXA\", \"V14.9XXA\", \"V15.4XXA\", \"V16.0XXA\", \"V16.4XXA\", \"V17.0XXA\", \"V17.1XXA\", \"V17.2XXA\", \"V17.3XXA\", \"V17.4XXA\", \n",
    "                      \"V17.9XXA\", \"V18.0XXA\", \"V18.1XXA\", \"V18.2XXA\", \"V18.3XXA\", \"V18.4XXA\", \"V18.5XXA\", \"V18.9XXA\", \"V19.00XA\", \"V19.09XA\", \n",
    "                      \"V19.3XXA\", \"V19.40XA\", \"V19.49XA\", \"V19.59XA\", \"V19.60XA\", \"V19.88XA\", \"V19.9XXA\"]\n",
    "icd10_ecode_bikes = puf_2020[\"PUF_ECODE_LOOKUP\"]\n",
    "icd10_ecode_bikes = icd10_ecode_bikes[icd10_ecode_bikes[\"ECODE\"].isin(icd10_biker_ecodes)]\n",
    "ecode_dict = dict(list(zip(icd10_ecode_bikes[\"ECODE\"], icd10_ecode_bikes[\"ECODE_DESC\"])))\n",
    "\n",
    "# Filtering the major trauma df for bike injuries and annotating with ecode descriptions\n",
    "trauma = puf_2020[\"PUF_TRAUMA\"]\n",
    "trauma_bikes = trauma[trauma[\"PRIMARYECODEICD10\"].isin(icd10_biker_ecodes)]\n",
    "trauma_bikes[\"ECODE_DESC\"] = trauma_bikes[\"PRIMARYECODEICD10\"].map(ecode_dict)\n",
    "trauma_bikes[\"Year\"] = 2020\n",
    "inc_keys = pd.Series(trauma_bikes[\"INC_KEY\"]) #getting a list of INC_KEYS to filter other dfs\n",
    "year = 2020\n",
    "n_total = len(trauma[\"INC_KEY\"].unique())\n",
    "n_bikers = len(trauma_bikes[\"INC_KEY\"].unique())\n",
    "frac_bikers = np.round((n_bikers / n_total) * 100, 3)\n",
    "print(\"In the year {0} there were {1}/{2} pedalcylist trauma injuries / total trauama injuries ({3}%)\".format(year, n_bikers, n_total, frac_bikers))\n",
    "stat_printer(trauma_bikes)\n",
    "\n",
    "# Optional export to CSV\n",
    "#trauma_bikes.to_csv(cwd+\"/TQP_Files/main/2020_trauma.csv\", index=False)"
   ]
  },
  {
   "cell_type": "markdown",
   "id": "f19206f4-3826-4a8b-8b6c-c66af9689aa3",
   "metadata": {},
   "source": [
    "### Injury Severity Score (AIS)"
   ]
  },
  {
   "cell_type": "code",
   "execution_count": null,
   "id": "e12e3c9e-756a-48be-83e8-2568fa4f92f1",
   "metadata": {},
   "outputs": [],
   "source": [
    "# Filtering PUF_AISDIAGNOSIS for biker INC_KEYS\n",
    "ais = puf_2020[\"PUF_AISDIAGNOSIS\"]\n",
    "ais_bikes = ais[ais[\"INC_KEY\"].isin(inc_keys)]\n",
    "ais_bikes[\"AISPREDOT\"] = ais_bikes[\"AISPREDOT\"].astype(float)\n",
    "\n",
    "# Merging with AISPREDOT descriptions\n",
    "ais_lookup = puf_2020[\"PUF_AISDIAGNOSIS_LOOKUP\"]\n",
    "ais_lookup[\"AISPREDOT\"] = ais_lookup[\"AISPREDOT\"].astype(float)\n",
    "ais_lookup = ais_lookup.drop([\"AISSEVERITY\", \"AISVERSION\"], axis=1)\n",
    "ais_bikes = pd.merge(ais_bikes, ais_lookup, how=\"left\", on=\"AISPREDOT\")\n",
    "\n",
    "# Merging with AIS05TO98_CROSSWALK\n",
    "ais_cross = puf_2020[\"PUF_AIS15TO05_CROSSWALK\"]\n",
    "ais_cross.columns = ['AIS15_PREDOT', 'AIS15_SEVERITY', 'AISPREDOT', 'AIS05_SEVERITY', 'AIS15_DESCRIPTION']\n",
    "ais_cross[\"AISPREDOT\"] = ais_cross[\"AISPREDOT\"].replace(\"None\", np.nan)\n",
    "ais_cross[\"AISPREDOT\"] = ais_cross[\"AISPREDOT\"].astype(float)\n",
    "ais_cross = ais_cross.drop(\"AIS05_SEVERITY\", axis=1)\n",
    "ais_bikes = pd.merge(ais_bikes, ais_cross, how=\"left\", on=\"AISPREDOT\")\n",
    "ais_bikes[\"Year\"] = 2020\n",
    "stat_printer(ais_bikes)\n",
    "\n",
    "# Optional export to CSV\n",
    "#ais_bikes.to_csv(cwd+\"/TQP_Files/ais/2020_AIS.csv\", index=False)"
   ]
  },
  {
   "cell_type": "markdown",
   "id": "a8f38154-c8fe-48ba-a63e-986977f22728",
   "metadata": {},
   "source": [
    "### Hospital events"
   ]
  },
  {
   "cell_type": "code",
   "execution_count": null,
   "id": "bb8b8635-31ea-458a-887b-ec46ec034afe",
   "metadata": {},
   "outputs": [],
   "source": [
    "# Filtering PUF_HOSPITALEVENTS for biker INC_KEYS\n",
    "events = puf_2020[\"PUF_HOSPITALEVENTS\"]\n",
    "events_bikes = events[events[\"INC_KEY\"].isin(inc_keys)]\n",
    "events_bikes[\"Year\"] = 2020\n",
    "stat_printer(events_bikes)\n",
    "\n",
    "# Optional export to CSV\n",
    "#events_bikes.to_csv(cwd+\"/TQP_Files/events/2020_events.csv\", index=False)"
   ]
  },
  {
   "cell_type": "markdown",
   "id": "47fedd07-d20d-4ed2-9812-4fb07e786088",
   "metadata": {},
   "source": [
    "### Diagnosis"
   ]
  },
  {
   "cell_type": "code",
   "execution_count": null,
   "id": "9170e99d-76dc-43ef-9296-879f2285f706",
   "metadata": {},
   "outputs": [],
   "source": [
    "# Filtering PUF_AISDIAGNOSIS for biker INC_KEYS\n",
    "diag = puf_2020[\"PUF_ICDDIAGNOSIS\"]\n",
    "diag_bikes = diag[diag[\"INC_KEY\"].isin(inc_keys)]\n",
    "\n",
    "# Merging with ICDDIAGNOSISCODE descriptions\n",
    "diag_loopup = puf_2020[\"PUF_ICDDIAGNOSIS_LOOKUP\"]\n",
    "diag_loopup = diag_loopup.drop(\"ICD_VERSION\", axis=1)\n",
    "diag_bikes = pd.merge(diag_bikes, diag_loopup, how=\"left\", on=\"ICDDIAGNOSISCODE\")\n",
    "diag_bikes[\"Year\"] = 2020\n",
    "stat_printer(diag_bikes)\n",
    "\n",
    "# Optional export to CSV\n",
    "#diag_bikes.to_csv(cwd+\"/TQP_Files/diagnosis/2020_diagnosis.csv\", index=False)"
   ]
  },
  {
   "cell_type": "markdown",
   "id": "a878e33e-328a-428d-9b6c-46481f36f82d",
   "metadata": {},
   "source": [
    "### Procedures"
   ]
  },
  {
   "cell_type": "code",
   "execution_count": null,
   "id": "04fb011b-eefd-4d1f-92e3-f70f214c22b2",
   "metadata": {},
   "outputs": [],
   "source": [
    "# Filtering PUF_ICDPROCEDURE for biker INC_KEYS\n",
    "proced = puf_2020[\"PUF_ICDPROCEDURE\"]\n",
    "proced_bikes = proced[proced[\"INC_KEY\"].isin(inc_keys)]\n",
    "\n",
    "# Merging with ICDPROCEDURECODE descriptions\n",
    "proced_loopup = puf_2020[\"PUF_ICDPROCEDURE_LOOKUP\"]\n",
    "proced_loopup = proced_loopup.drop(\"ICD_VERSION\", axis=1)\n",
    "proced_bikes = pd.merge(proced_bikes, proced_loopup, how=\"left\", on=\"ICDPROCEDURECODE\")\n",
    "proced_bikes[\"Year\"] = 2020\n",
    "stat_printer(proced_bikes)\n",
    "\n",
    "# Optional export to CSV\n",
    "#proced_bikes.to_csv(cwd+\"/TQP_Files/procedures/2020_procedures.csv\", index=False)"
   ]
  },
  {
   "cell_type": "markdown",
   "id": "d7c7ec9f-1b8e-4448-b97e-ae7e8acce7d8",
   "metadata": {},
   "source": [
    "### Preexisting Conditions"
   ]
  },
  {
   "cell_type": "code",
   "execution_count": null,
   "id": "967295a9-7c5e-49d2-b831-c9e51e0c396d",
   "metadata": {},
   "outputs": [],
   "source": [
    "# Filtering PUF_HOSPITALEVENTS for biker INC_KEYS\n",
    "pre = puf_2020[\"PUF_PREEXISTINGCONDITIONS\"]\n",
    "pre_bikes = pre[pre[\"INC_KEY\"].isin(inc_keys)]\n",
    "pre_bikes[\"Year\"] = 2020\n",
    "stat_printer(pre_bikes)\n",
    "\n",
    "# Optional export to CSV\n",
    "#pre_bikes.to_csv(cwd+\"/TQP_Files/preexisting/2020_preexisting_conditions.csv\", index=False)"
   ]
  },
  {
   "cell_type": "markdown",
   "id": "41182239-9bdb-4fca-96a1-c9545dbbffb0",
   "metadata": {
    "tags": []
   },
   "source": [
    "## **Importing and Cleaning Files for 2021**"
   ]
  },
  {
   "cell_type": "code",
   "execution_count": null,
   "id": "7425d7a9-dfa5-44b4-b9a0-ab2d45ad7b69",
   "metadata": {
    "tags": []
   },
   "outputs": [],
   "source": [
    "puf_2021 = csv_importer(filepath=\"I:/BCM_projects/Bike-Injuries/NTDB/PUF AY 2021/CSV\", rows=None)"
   ]
  },
  {
   "cell_type": "markdown",
   "id": "3d828114-2afa-4977-b5d4-9f8640a08f17",
   "metadata": {},
   "source": [
    "### Trauma"
   ]
  },
  {
   "cell_type": "code",
   "execution_count": null,
   "id": "1c97f7b7-7b1e-4ef7-8d73-7be66fa2651a",
   "metadata": {},
   "outputs": [],
   "source": [
    "# Selecting pedal cyclist injuries from ICD-10 codes\n",
    "icd10_biker_ecodes = [\"V10.0XXA\", \"V10.2XXA\", \"V10.4XXA\", \"V11.0XXA\", \"V11.1XXA\", \"V11.2XXA\", \"V11.4XXA\", \"V12.0XXA\", \"V12.4XXA\", \"V12.5XXA\", \n",
    "                      \"V12.9XXA\", \"V13.0XXA\", \"V13.1XXA\", \"V13.2XXA\", \"V13.3XXA\", \"V13.4XXA\", \"V13.5XXA\", \"V13.9XXA\", \"V14.0XXA\", \"V14.4XXA\", \n",
    "                      \"V14.5XXA\", \"V14.9XXA\", \"V15.4XXA\", \"V16.0XXA\", \"V16.4XXA\", \"V17.0XXA\", \"V17.1XXA\", \"V17.2XXA\", \"V17.3XXA\", \"V17.4XXA\", \n",
    "                      \"V17.9XXA\", \"V18.0XXA\", \"V18.1XXA\", \"V18.2XXA\", \"V18.3XXA\", \"V18.4XXA\", \"V18.5XXA\", \"V18.9XXA\", \"V19.00XA\", \"V19.09XA\", \n",
    "                      \"V19.3XXA\", \"V19.40XA\", \"V19.49XA\", \"V19.59XA\", \"V19.60XA\", \"V19.88XA\", \"V19.9XXA\"]\n",
    "icd10_ecode_bikes = puf_2021[\"PUF_ECODE_LOOKUP\"]\n",
    "icd10_ecode_bikes = icd10_ecode_bikes[icd10_ecode_bikes[\"ECODE\"].isin(icd10_biker_ecodes)]\n",
    "ecode_dict = dict(list(zip(icd10_ecode_bikes[\"ECODE\"], icd10_ecode_bikes[\"ECODE_DESC\"])))\n",
    "\n",
    "# Filtering the major trauma df for bike injuries and annotating with ecode descriptions\n",
    "trauma = puf_2021[\"PUF_TRAUMA\"]\n",
    "trauma_bikes = trauma[trauma[\"PRIMARYECODEICD10\"].isin(icd10_biker_ecodes)]\n",
    "trauma_bikes[\"ECODE_DESC\"] = trauma_bikes[\"PRIMARYECODEICD10\"].map(ecode_dict)\n",
    "trauma_bikes[\"Year\"] = 2021\n",
    "inc_keys = pd.Series(trauma_bikes[\"INC_KEY\"]) #getting a list of INC_KEYS to filter other dfs\n",
    "year = 2021\n",
    "n_total = len(trauma[\"INC_KEY\"].unique())\n",
    "n_bikers = len(trauma_bikes[\"INC_KEY\"].unique())\n",
    "frac_bikers = np.round((n_bikers / n_total) * 100, 3)\n",
    "print(\"In the year {0} there were {1}/{2} pedalcylist trauma injuries / total trauama injuries ({3}%)\".format(year, n_bikers, n_total, frac_bikers))\n",
    "stat_printer(trauma_bikes)\n",
    "\n",
    "# Optional export to CSV\n",
    "#trauma_bikes.to_csv(cwd+\"/TQP_Files/main/2021_trauma.csv\", index=False)"
   ]
  },
  {
   "cell_type": "markdown",
   "id": "277f23e8-3696-4553-9c01-89970dbb0c92",
   "metadata": {},
   "source": [
    "### Injury Severity Score (AIS)"
   ]
  },
  {
   "cell_type": "code",
   "execution_count": null,
   "id": "58d23f65-f43b-46a4-a574-48b5e9a0a8ef",
   "metadata": {},
   "outputs": [],
   "source": [
    "# Filtering PUF_AISDIAGNOSIS for biker INC_KEYS\n",
    "ais = puf_2021[\"PUF_AISDIAGNOSIS\"]\n",
    "ais_bikes = ais[ais[\"INC_KEY\"].isin(inc_keys)]\n",
    "ais_bikes[\"AISPREDOT\"] = ais_bikes[\"AISPREDOT\"].astype(float)\n",
    "\n",
    "# Merging with AISPREDOT descriptions\n",
    "ais_lookup = puf_2021[\"PUF_AISDIAGNOSIS_LOOKUP\"]\n",
    "ais_lookup[\"AISPREDOT\"] = ais_lookup[\"AISPREDOT\"].astype(float)\n",
    "ais_lookup = ais_lookup.drop([\"AISSEVERITY\", \"AISVERSION\"], axis=1)\n",
    "ais_bikes = pd.merge(ais_bikes, ais_lookup, how=\"left\", on=\"AISPREDOT\")\n",
    "\n",
    "# Merging with AIS05TO98_CROSSWALK\n",
    "ais_cross = puf_2021[\"PUF_AIS15TO05_CROSSWALK\"]\n",
    "ais_cross.columns = ['AIS15_PREDOT', 'AIS15_SEVERITY', 'AISPREDOT', 'AIS05_SEVERITY', 'AIS15_DESCRIPTION']\n",
    "ais_cross[\"AISPREDOT\"] = ais_cross[\"AISPREDOT\"].replace(\"None\", np.nan)\n",
    "ais_cross[\"AISPREDOT\"] = ais_cross[\"AISPREDOT\"].astype(float)\n",
    "ais_cross = ais_cross.drop(\"AIS05_SEVERITY\", axis=1)\n",
    "ais_bikes = pd.merge(ais_bikes, ais_cross, how=\"left\", on=\"AISPREDOT\")\n",
    "ais_bikes[\"Year\"] = 2021\n",
    "stat_printer(ais_bikes)\n",
    "\n",
    "# Optional export to CSV\n",
    "#ais_bikes.to_csv(cwd+\"/TQP_Files/ais/2021_AIS.csv\", index=False)"
   ]
  },
  {
   "cell_type": "markdown",
   "id": "a9f80837-c4ac-4f0f-b567-407eb34dfe16",
   "metadata": {},
   "source": [
    "### Hospital events"
   ]
  },
  {
   "cell_type": "code",
   "execution_count": null,
   "id": "08451ec6-e5f1-430e-a5c6-58457c5249f6",
   "metadata": {},
   "outputs": [],
   "source": [
    "# Filtering PUF_HOSPITALEVENTS for biker INC_KEYS\n",
    "events = puf_2021[\"PUF_HOSPITALEVENTS\"]\n",
    "events_bikes = events[events[\"INC_KEY\"].isin(inc_keys)]\n",
    "events_bikes[\"Year\"] = 2021\n",
    "stat_printer(events_bikes)\n",
    "\n",
    "# Optional export to CSV\n",
    "#events_bikes.to_csv(cwd+\"/TQP_Files/events/2021_events.csv\", index=False)"
   ]
  },
  {
   "cell_type": "markdown",
   "id": "4be6c7dd-4f07-4b6d-97b9-27a6cd673f80",
   "metadata": {},
   "source": [
    "### Diagnosis"
   ]
  },
  {
   "cell_type": "code",
   "execution_count": null,
   "id": "4fd06981-6431-492c-960d-7b6962ea90f8",
   "metadata": {},
   "outputs": [],
   "source": [
    "# Filtering PUF_AISDIAGNOSIS for biker INC_KEYS\n",
    "diag = puf_2021[\"PUF_ICDDIAGNOSIS\"]\n",
    "diag_bikes = diag[diag[\"INC_KEY\"].isin(inc_keys)]\n",
    "\n",
    "# Merging with ICDDIAGNOSISCODE descriptions\n",
    "diag_loopup = puf_2021[\"PUF_ICDDIAGNOSIS_LOOKUP\"]\n",
    "diag_loopup = diag_loopup.drop(\"ICD_VERSION\", axis=1)\n",
    "diag_bikes = pd.merge(diag_bikes, diag_loopup, how=\"left\", on=\"ICDDIAGNOSISCODE\")\n",
    "diag_bikes[\"Year\"] = 2021\n",
    "stat_printer(diag_bikes)\n",
    "\n",
    "# Optional export to CSV\n",
    "#diag_bikes.to_csv(cwd+\"/TQP_Files/diagnosis/2021_diagnosis.csv\", index=False)"
   ]
  },
  {
   "cell_type": "markdown",
   "id": "2590e386-9c34-4e5b-97d6-b06f17ee4e33",
   "metadata": {},
   "source": [
    "### Procedures"
   ]
  },
  {
   "cell_type": "code",
   "execution_count": null,
   "id": "4e3d41b6-2c35-4b34-a5cc-6ff484516f9a",
   "metadata": {},
   "outputs": [],
   "source": [
    "# Filtering PUF_ICDPROCEDURE for biker INC_KEYS\n",
    "proced = puf_2021[\"PUF_ICDPROCEDURE\"]\n",
    "proced_bikes = proced[proced[\"INC_KEY\"].isin(inc_keys)]\n",
    "\n",
    "# Merging with ICDPROCEDURECODE descriptions\n",
    "proced_loopup = puf_2021[\"PUF_ICDPROCEDURE_LOOKUP\"]\n",
    "proced_loopup = proced_loopup.drop(\"ICD_VERSION\", axis=1)\n",
    "proced_bikes = pd.merge(proced_bikes, proced_loopup, how=\"left\", on=\"ICDPROCEDURECODE\")\n",
    "proced_bikes[\"Year\"] = 2021\n",
    "stat_printer(proced_bikes)\n",
    "\n",
    "# Optional export to CSV\n",
    "#proced_bikes.to_csv(cwd+\"/TQP_Files/procedures/2021_procedures.csv\", index=False)"
   ]
  },
  {
   "cell_type": "markdown",
   "id": "d241c9d2-df11-4c2f-bc5c-800036afacd8",
   "metadata": {},
   "source": [
    "### Preexisting Conditions"
   ]
  },
  {
   "cell_type": "code",
   "execution_count": null,
   "id": "95b3ca58-39ec-4f73-bd32-2d6001688662",
   "metadata": {},
   "outputs": [],
   "source": [
    "# Filtering PUF_HOSPITALEVENTS for biker INC_KEYS\n",
    "pre = puf_2021[\"PUF_PREEXISTINGCONDITIONS\"]\n",
    "pre_bikes = pre[pre[\"INC_KEY\"].isin(inc_keys)]\n",
    "pre_bikes[\"Year\"] = 2021\n",
    "stat_printer(pre_bikes)\n",
    "\n",
    "# Optional export to CSV\n",
    "#pre_bikes.to_csv(cwd+\"/TQP_Files/preexisting/2021_preexisting_conditions.csv\", index=False)"
   ]
  },
  {
   "cell_type": "markdown",
   "id": "95baa85a-7075-4270-ac6b-244f768054ac",
   "metadata": {
    "tags": []
   },
   "source": [
    "## **Importing and Cleaning Files for 2022**"
   ]
  },
  {
   "cell_type": "code",
   "execution_count": null,
   "id": "84e2bb2c-e7ca-4e9c-b608-1e07083453a8",
   "metadata": {
    "tags": []
   },
   "outputs": [],
   "source": [
    "puf_2022 = csv_importer(filepath=\"I:/BCM_projects/Bike-Injuries/NTDB/PUF AY 2022/CSV\", rows=None)"
   ]
  },
  {
   "cell_type": "markdown",
   "id": "64fc39ab-d086-4a2c-8616-458a652579d9",
   "metadata": {},
   "source": [
    "### Trauma"
   ]
  },
  {
   "cell_type": "code",
   "execution_count": null,
   "id": "af606ce9-ff17-412d-acf8-7345fec2e7d1",
   "metadata": {},
   "outputs": [],
   "source": [
    "# Selecting pedal cyclist injuries from ICD-10 codes\n",
    "icd10_biker_ecodes = [\"V10.0XXA\", \"V10.2XXA\", \"V10.4XXA\", \"V11.0XXA\", \"V11.1XXA\", \"V11.2XXA\", \"V11.4XXA\", \"V12.0XXA\", \"V12.4XXA\", \"V12.5XXA\", \n",
    "                      \"V12.9XXA\", \"V13.0XXA\", \"V13.1XXA\", \"V13.2XXA\", \"V13.3XXA\", \"V13.4XXA\", \"V13.5XXA\", \"V13.9XXA\", \"V14.0XXA\", \"V14.4XXA\", \n",
    "                      \"V14.5XXA\", \"V14.9XXA\", \"V15.4XXA\", \"V16.0XXA\", \"V16.4XXA\", \"V17.0XXA\", \"V17.1XXA\", \"V17.2XXA\", \"V17.3XXA\", \"V17.4XXA\", \n",
    "                      \"V17.9XXA\", \"V18.0XXA\", \"V18.1XXA\", \"V18.2XXA\", \"V18.3XXA\", \"V18.4XXA\", \"V18.5XXA\", \"V18.9XXA\", \"V19.00XA\", \"V19.09XA\", \n",
    "                      \"V19.3XXA\", \"V19.40XA\", \"V19.49XA\", \"V19.59XA\", \"V19.60XA\", \"V19.88XA\", \"V19.9XXA\"]\n",
    "icd10_ecode_bikes = puf_2022[\"PUF_ECODE_LOOKUP\"]\n",
    "icd10_ecode_bikes = icd10_ecode_bikes[icd10_ecode_bikes[\"ECODE\"].isin(icd10_biker_ecodes)]\n",
    "ecode_dict = dict(list(zip(icd10_ecode_bikes[\"ECODE\"], icd10_ecode_bikes[\"ECODE_DESC\"])))\n",
    "\n",
    "# Filtering the major trauma df for bike injuries and annotating with ecode descriptions\n",
    "trauma = puf_2022[\"PUF_TRAUMA\"]\n",
    "trauma_bikes = trauma[trauma[\"PRIMARYECODEICD10\"].isin(icd10_biker_ecodes)]\n",
    "trauma_bikes[\"ECODE_DESC\"] = trauma_bikes[\"PRIMARYECODEICD10\"].map(ecode_dict)\n",
    "trauma_bikes[\"Year\"] = 2022\n",
    "inc_keys = pd.Series(trauma_bikes[\"INC_KEY\"]) #getting a list of INC_KEYS to filter other dfs\n",
    "year = 2022\n",
    "n_total = len(trauma[\"INC_KEY\"].unique())\n",
    "n_bikers = len(trauma_bikes[\"INC_KEY\"].unique())\n",
    "frac_bikers = np.round((n_bikers / n_total) * 100, 3)\n",
    "print(\"In the year {0} there were {1}/{2} pedalcylist trauma injuries / total trauama injuries ({3}%)\".format(year, n_bikers, n_total, frac_bikers))\n",
    "stat_printer(trauma_bikes)\n",
    "\n",
    "# Optional export to CSV\n",
    "#trauma_bikes.to_csv(cwd+\"/TQP_Files/main/2022_trauma.csv\", index=False)"
   ]
  },
  {
   "cell_type": "markdown",
   "id": "bd71aa05-fda1-4c6c-8d3f-f6547f3ebf65",
   "metadata": {},
   "source": [
    "### Injury Severity Score (AIS)"
   ]
  },
  {
   "cell_type": "code",
   "execution_count": null,
   "id": "dbb9d484-9c56-4d6c-bec8-770d261780a2",
   "metadata": {},
   "outputs": [],
   "source": [
    "# Filtering PUF_AISDIAGNOSIS for biker INC_KEYS\n",
    "ais = puf_2022[\"PUF_AISDIAGNOSIS\"]\n",
    "ais_bikes = ais[ais[\"INC_KEY\"].isin(inc_keys)]\n",
    "ais_bikes[\"AISPREDOT\"] = ais_bikes[\"AISPREDOT\"].astype(float)\n",
    "\n",
    "# Merging with AISPREDOT descriptions\n",
    "ais_lookup = puf_2022[\"PUF_AISDIAGNOSIS_LOOKUP\"]\n",
    "ais_lookup[\"AISPREDOT\"] = ais_lookup[\"AISPREDOT\"].astype(float)\n",
    "ais_lookup = ais_lookup.drop([\"AISSEVERITY\", \"AISVERSION\"], axis=1)\n",
    "ais_bikes = pd.merge(ais_bikes, ais_lookup, how=\"left\", on=\"AISPREDOT\")\n",
    "\n",
    "# Merging with AIS05TO98_CROSSWALK\n",
    "ais_cross = puf_2022[\"PUF_AIS15TO05_CROSSWALK\"]\n",
    "ais_cross.columns = ['AIS15_PREDOT', 'AIS15_SEVERITY', 'AISPREDOT', 'AIS05_SEVERITY', 'AIS15_DESCRIPTION']\n",
    "ais_cross[\"AISPREDOT\"] = ais_cross[\"AISPREDOT\"].replace(\"None\", np.nan)\n",
    "ais_cross[\"AISPREDOT\"] = ais_cross[\"AISPREDOT\"].astype(float)\n",
    "ais_cross = ais_cross.drop(\"AIS05_SEVERITY\", axis=1)\n",
    "ais_bikes = pd.merge(ais_bikes, ais_cross, how=\"left\", on=\"AISPREDOT\")\n",
    "ais_bikes[\"Year\"] = 2022\n",
    "stat_printer(ais_bikes)\n",
    "\n",
    "# Optional export to CSV\n",
    "#ais_bikes.to_csv(cwd+\"/TQP_Files/ais/2022_AIS.csv\", index=False)"
   ]
  },
  {
   "cell_type": "markdown",
   "id": "9c13afee-1f80-4308-ade0-332e5f1ccb78",
   "metadata": {},
   "source": [
    "### Hospital events"
   ]
  },
  {
   "cell_type": "code",
   "execution_count": null,
   "id": "a7e9c368-b918-4a74-b11e-e082138ddec0",
   "metadata": {},
   "outputs": [],
   "source": [
    "# Filtering PUF_HOSPITALEVENTS for biker INC_KEYS\n",
    "events = puf_2022[\"PUF_HOSPITALEVENTS\"]\n",
    "events_bikes = events[events[\"INC_KEY\"].isin(inc_keys)]\n",
    "events_bikes[\"Year\"] = 2022\n",
    "stat_printer(events_bikes)\n",
    "\n",
    "# Optional export to CSV\n",
    "#events_bikes.to_csv(cwd+\"/TQP_Files/events/2022_events.csv\", index=False)"
   ]
  },
  {
   "cell_type": "markdown",
   "id": "490053d0-230f-4f1a-81f9-39f47704382f",
   "metadata": {},
   "source": [
    "### Diagnosis"
   ]
  },
  {
   "cell_type": "code",
   "execution_count": null,
   "id": "908f1582-e63e-463e-8735-c6a1251e3901",
   "metadata": {},
   "outputs": [],
   "source": [
    "# Filtering PUF_AISDIAGNOSIS for biker INC_KEYS\n",
    "diag = puf_2022[\"PUF_ICDDIAGNOSIS\"]\n",
    "diag_bikes = diag[diag[\"INC_KEY\"].isin(inc_keys)]\n",
    "\n",
    "# Merging with ICDDIAGNOSISCODE descriptions\n",
    "diag_loopup = puf_2022[\"PUF_ICDDIAGNOSIS_LOOKUP\"]\n",
    "diag_loopup = diag_loopup.drop(\"ICD_VERSION\", axis=1)\n",
    "diag_bikes = pd.merge(diag_bikes, diag_loopup, how=\"left\", on=\"ICDDIAGNOSISCODE\")\n",
    "diag_bikes[\"Year\"] = 2022\n",
    "stat_printer(diag_bikes)\n",
    "\n",
    "# Optional export to CSV\n",
    "#diag_bikes.to_csv(cwd+\"/TQP_Files/diagnosis/2022_diagnosis.csv\", index=False)"
   ]
  },
  {
   "cell_type": "markdown",
   "id": "61791e7d-fd7b-46bc-b4a2-c5914ca619b1",
   "metadata": {},
   "source": [
    "### Procedures"
   ]
  },
  {
   "cell_type": "code",
   "execution_count": null,
   "id": "a5f20782-c853-449c-91a7-4a6a1b345d78",
   "metadata": {},
   "outputs": [],
   "source": [
    "# Filtering PUF_ICDPROCEDURE for biker INC_KEYS\n",
    "proced = puf_2022[\"PUF_ICDPROCEDURE\"]\n",
    "proced_bikes = proced[proced[\"INC_KEY\"].isin(inc_keys)]\n",
    "\n",
    "# Merging with ICDPROCEDURECODE descriptions\n",
    "proced_loopup = puf_2022[\"PUF_ICDPROCEDURE_LOOKUP\"]\n",
    "proced_loopup = proced_loopup.drop(\"ICD_VERSION\", axis=1)\n",
    "proced_bikes = pd.merge(proced_bikes, proced_loopup, how=\"left\", on=\"ICDPROCEDURECODE\")\n",
    "proced_bikes[\"Year\"] = 2022\n",
    "stat_printer(proced_bikes)\n",
    "\n",
    "# Optional export to CSV\n",
    "#proced_bikes.to_csv(cwd+\"/TQP_Files/procedures/2022_procedures.csv\", index=False)"
   ]
  },
  {
   "cell_type": "markdown",
   "id": "00ae608d-e214-45df-8e7a-adac934ee3ff",
   "metadata": {},
   "source": [
    "### Preexisting Conditions"
   ]
  },
  {
   "cell_type": "code",
   "execution_count": null,
   "id": "8e7833fd-3289-4da0-af03-8a50295fc59b",
   "metadata": {},
   "outputs": [],
   "source": [
    "# Filtering PUF_HOSPITALEVENTS for biker INC_KEYS\n",
    "pre = puf_2022[\"PUF_PREEXISTINGCONDITIONS\"]\n",
    "pre_bikes = pre[pre[\"INC_KEY\"].isin(inc_keys)]\n",
    "pre_bikes[\"Year\"] = 2022\n",
    "stat_printer(pre_bikes)\n",
    "\n",
    "# Optional export to CSV\n",
    "#pre_bikes.to_csv(cwd+\"/TQP_Files/preexisting/2022_preexisting_conditions.csv\", index=False)"
   ]
  }
 ],
 "metadata": {
  "kernelspec": {
   "display_name": "Python 3 (ipykernel)",
   "language": "python",
   "name": "python3"
  },
  "language_info": {
   "codemirror_mode": {
    "name": "ipython",
    "version": 3
   },
   "file_extension": ".py",
   "mimetype": "text/x-python",
   "name": "python",
   "nbconvert_exporter": "python",
   "pygments_lexer": "ipython3",
   "version": "3.9.12"
  }
 },
 "nbformat": 4,
 "nbformat_minor": 5
}
